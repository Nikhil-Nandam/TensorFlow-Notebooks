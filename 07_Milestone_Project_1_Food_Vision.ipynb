{
  "nbformat": 4,
  "nbformat_minor": 0,
  "metadata": {
    "colab": {
      "name": "07-Milestone-Project-1-Food-Vision.ipynb",
      "provenance": [],
      "include_colab_link": true
    },
    "kernelspec": {
      "name": "python3",
      "display_name": "Python 3"
    },
    "language_info": {
      "name": "python"
    },
    "accelerator": "GPU",
    "widgets": {
      "application/vnd.jupyter.widget-state+json": {
        "79ab40aeb35f40a580b0603d7585a9cf": {
          "model_module": "@jupyter-widgets/controls",
          "model_name": "HBoxModel",
          "model_module_version": "1.5.0",
          "state": {
            "_dom_classes": [],
            "_model_module": "@jupyter-widgets/controls",
            "_model_module_version": "1.5.0",
            "_model_name": "HBoxModel",
            "_view_count": null,
            "_view_module": "@jupyter-widgets/controls",
            "_view_module_version": "1.5.0",
            "_view_name": "HBoxView",
            "box_style": "",
            "children": [
              "IPY_MODEL_df1128f00b3f439b8e8791ce468ef171",
              "IPY_MODEL_5c78514800c2483d8af82d1df41f5d55",
              "IPY_MODEL_55f587288677471c9d647136fc9cec54"
            ],
            "layout": "IPY_MODEL_14c6aa28e0e046a0b12b47dcfaa737d4"
          }
        },
        "df1128f00b3f439b8e8791ce468ef171": {
          "model_module": "@jupyter-widgets/controls",
          "model_name": "HTMLModel",
          "model_module_version": "1.5.0",
          "state": {
            "_dom_classes": [],
            "_model_module": "@jupyter-widgets/controls",
            "_model_module_version": "1.5.0",
            "_model_name": "HTMLModel",
            "_view_count": null,
            "_view_module": "@jupyter-widgets/controls",
            "_view_module_version": "1.5.0",
            "_view_name": "HTMLView",
            "description": "",
            "description_tooltip": null,
            "layout": "IPY_MODEL_96070d343c3f4fcdabfdbcc945e036e5",
            "placeholder": "​",
            "style": "IPY_MODEL_eb54ca0424c746a883dc591384c57e23",
            "value": "Dl Completed...: 100%"
          }
        },
        "5c78514800c2483d8af82d1df41f5d55": {
          "model_module": "@jupyter-widgets/controls",
          "model_name": "FloatProgressModel",
          "model_module_version": "1.5.0",
          "state": {
            "_dom_classes": [],
            "_model_module": "@jupyter-widgets/controls",
            "_model_module_version": "1.5.0",
            "_model_name": "FloatProgressModel",
            "_view_count": null,
            "_view_module": "@jupyter-widgets/controls",
            "_view_module_version": "1.5.0",
            "_view_name": "ProgressView",
            "bar_style": "success",
            "description": "",
            "description_tooltip": null,
            "layout": "IPY_MODEL_28ccd57fa4c2460980a22fc6127270ea",
            "max": 1,
            "min": 0,
            "orientation": "horizontal",
            "style": "IPY_MODEL_1438bc737f0b4f29b0f67bf74816a3c1",
            "value": 1
          }
        },
        "55f587288677471c9d647136fc9cec54": {
          "model_module": "@jupyter-widgets/controls",
          "model_name": "HTMLModel",
          "model_module_version": "1.5.0",
          "state": {
            "_dom_classes": [],
            "_model_module": "@jupyter-widgets/controls",
            "_model_module_version": "1.5.0",
            "_model_name": "HTMLModel",
            "_view_count": null,
            "_view_module": "@jupyter-widgets/controls",
            "_view_module_version": "1.5.0",
            "_view_name": "HTMLView",
            "description": "",
            "description_tooltip": null,
            "layout": "IPY_MODEL_f40136694b6740dd923bc6f4f7187502",
            "placeholder": "​",
            "style": "IPY_MODEL_6ba690a9c7a34b5f854da2e68f4e503e",
            "value": " 1/1 [06:56&lt;00:00, 331.58s/ url]"
          }
        },
        "14c6aa28e0e046a0b12b47dcfaa737d4": {
          "model_module": "@jupyter-widgets/base",
          "model_name": "LayoutModel",
          "model_module_version": "1.2.0",
          "state": {
            "_model_module": "@jupyter-widgets/base",
            "_model_module_version": "1.2.0",
            "_model_name": "LayoutModel",
            "_view_count": null,
            "_view_module": "@jupyter-widgets/base",
            "_view_module_version": "1.2.0",
            "_view_name": "LayoutView",
            "align_content": null,
            "align_items": null,
            "align_self": null,
            "border": null,
            "bottom": null,
            "display": null,
            "flex": null,
            "flex_flow": null,
            "grid_area": null,
            "grid_auto_columns": null,
            "grid_auto_flow": null,
            "grid_auto_rows": null,
            "grid_column": null,
            "grid_gap": null,
            "grid_row": null,
            "grid_template_areas": null,
            "grid_template_columns": null,
            "grid_template_rows": null,
            "height": null,
            "justify_content": null,
            "justify_items": null,
            "left": null,
            "margin": null,
            "max_height": null,
            "max_width": null,
            "min_height": null,
            "min_width": null,
            "object_fit": null,
            "object_position": null,
            "order": null,
            "overflow": null,
            "overflow_x": null,
            "overflow_y": null,
            "padding": null,
            "right": null,
            "top": null,
            "visibility": null,
            "width": null
          }
        },
        "96070d343c3f4fcdabfdbcc945e036e5": {
          "model_module": "@jupyter-widgets/base",
          "model_name": "LayoutModel",
          "model_module_version": "1.2.0",
          "state": {
            "_model_module": "@jupyter-widgets/base",
            "_model_module_version": "1.2.0",
            "_model_name": "LayoutModel",
            "_view_count": null,
            "_view_module": "@jupyter-widgets/base",
            "_view_module_version": "1.2.0",
            "_view_name": "LayoutView",
            "align_content": null,
            "align_items": null,
            "align_self": null,
            "border": null,
            "bottom": null,
            "display": null,
            "flex": null,
            "flex_flow": null,
            "grid_area": null,
            "grid_auto_columns": null,
            "grid_auto_flow": null,
            "grid_auto_rows": null,
            "grid_column": null,
            "grid_gap": null,
            "grid_row": null,
            "grid_template_areas": null,
            "grid_template_columns": null,
            "grid_template_rows": null,
            "height": null,
            "justify_content": null,
            "justify_items": null,
            "left": null,
            "margin": null,
            "max_height": null,
            "max_width": null,
            "min_height": null,
            "min_width": null,
            "object_fit": null,
            "object_position": null,
            "order": null,
            "overflow": null,
            "overflow_x": null,
            "overflow_y": null,
            "padding": null,
            "right": null,
            "top": null,
            "visibility": null,
            "width": null
          }
        },
        "eb54ca0424c746a883dc591384c57e23": {
          "model_module": "@jupyter-widgets/controls",
          "model_name": "DescriptionStyleModel",
          "model_module_version": "1.5.0",
          "state": {
            "_model_module": "@jupyter-widgets/controls",
            "_model_module_version": "1.5.0",
            "_model_name": "DescriptionStyleModel",
            "_view_count": null,
            "_view_module": "@jupyter-widgets/base",
            "_view_module_version": "1.2.0",
            "_view_name": "StyleView",
            "description_width": ""
          }
        },
        "28ccd57fa4c2460980a22fc6127270ea": {
          "model_module": "@jupyter-widgets/base",
          "model_name": "LayoutModel",
          "model_module_version": "1.2.0",
          "state": {
            "_model_module": "@jupyter-widgets/base",
            "_model_module_version": "1.2.0",
            "_model_name": "LayoutModel",
            "_view_count": null,
            "_view_module": "@jupyter-widgets/base",
            "_view_module_version": "1.2.0",
            "_view_name": "LayoutView",
            "align_content": null,
            "align_items": null,
            "align_self": null,
            "border": null,
            "bottom": null,
            "display": null,
            "flex": null,
            "flex_flow": null,
            "grid_area": null,
            "grid_auto_columns": null,
            "grid_auto_flow": null,
            "grid_auto_rows": null,
            "grid_column": null,
            "grid_gap": null,
            "grid_row": null,
            "grid_template_areas": null,
            "grid_template_columns": null,
            "grid_template_rows": null,
            "height": null,
            "justify_content": null,
            "justify_items": null,
            "left": null,
            "margin": null,
            "max_height": null,
            "max_width": null,
            "min_height": null,
            "min_width": null,
            "object_fit": null,
            "object_position": null,
            "order": null,
            "overflow": null,
            "overflow_x": null,
            "overflow_y": null,
            "padding": null,
            "right": null,
            "top": null,
            "visibility": null,
            "width": "20px"
          }
        },
        "1438bc737f0b4f29b0f67bf74816a3c1": {
          "model_module": "@jupyter-widgets/controls",
          "model_name": "ProgressStyleModel",
          "model_module_version": "1.5.0",
          "state": {
            "_model_module": "@jupyter-widgets/controls",
            "_model_module_version": "1.5.0",
            "_model_name": "ProgressStyleModel",
            "_view_count": null,
            "_view_module": "@jupyter-widgets/base",
            "_view_module_version": "1.2.0",
            "_view_name": "StyleView",
            "bar_color": null,
            "description_width": ""
          }
        },
        "f40136694b6740dd923bc6f4f7187502": {
          "model_module": "@jupyter-widgets/base",
          "model_name": "LayoutModel",
          "model_module_version": "1.2.0",
          "state": {
            "_model_module": "@jupyter-widgets/base",
            "_model_module_version": "1.2.0",
            "_model_name": "LayoutModel",
            "_view_count": null,
            "_view_module": "@jupyter-widgets/base",
            "_view_module_version": "1.2.0",
            "_view_name": "LayoutView",
            "align_content": null,
            "align_items": null,
            "align_self": null,
            "border": null,
            "bottom": null,
            "display": null,
            "flex": null,
            "flex_flow": null,
            "grid_area": null,
            "grid_auto_columns": null,
            "grid_auto_flow": null,
            "grid_auto_rows": null,
            "grid_column": null,
            "grid_gap": null,
            "grid_row": null,
            "grid_template_areas": null,
            "grid_template_columns": null,
            "grid_template_rows": null,
            "height": null,
            "justify_content": null,
            "justify_items": null,
            "left": null,
            "margin": null,
            "max_height": null,
            "max_width": null,
            "min_height": null,
            "min_width": null,
            "object_fit": null,
            "object_position": null,
            "order": null,
            "overflow": null,
            "overflow_x": null,
            "overflow_y": null,
            "padding": null,
            "right": null,
            "top": null,
            "visibility": null,
            "width": null
          }
        },
        "6ba690a9c7a34b5f854da2e68f4e503e": {
          "model_module": "@jupyter-widgets/controls",
          "model_name": "DescriptionStyleModel",
          "model_module_version": "1.5.0",
          "state": {
            "_model_module": "@jupyter-widgets/controls",
            "_model_module_version": "1.5.0",
            "_model_name": "DescriptionStyleModel",
            "_view_count": null,
            "_view_module": "@jupyter-widgets/base",
            "_view_module_version": "1.2.0",
            "_view_name": "StyleView",
            "description_width": ""
          }
        },
        "b6d42232920046d9a62e0c79b23951ba": {
          "model_module": "@jupyter-widgets/controls",
          "model_name": "HBoxModel",
          "model_module_version": "1.5.0",
          "state": {
            "_dom_classes": [],
            "_model_module": "@jupyter-widgets/controls",
            "_model_module_version": "1.5.0",
            "_model_name": "HBoxModel",
            "_view_count": null,
            "_view_module": "@jupyter-widgets/controls",
            "_view_module_version": "1.5.0",
            "_view_name": "HBoxView",
            "box_style": "",
            "children": [
              "IPY_MODEL_63b8a2dffbc148c186e11a448c1da65c",
              "IPY_MODEL_90cdbcb0da30415d85f1932a5668890a",
              "IPY_MODEL_561652137c54446386c3b6d3e45b46a0"
            ],
            "layout": "IPY_MODEL_c533a59fcae74e2cb013d3bda5934961"
          }
        },
        "63b8a2dffbc148c186e11a448c1da65c": {
          "model_module": "@jupyter-widgets/controls",
          "model_name": "HTMLModel",
          "model_module_version": "1.5.0",
          "state": {
            "_dom_classes": [],
            "_model_module": "@jupyter-widgets/controls",
            "_model_module_version": "1.5.0",
            "_model_name": "HTMLModel",
            "_view_count": null,
            "_view_module": "@jupyter-widgets/controls",
            "_view_module_version": "1.5.0",
            "_view_name": "HTMLView",
            "description": "",
            "description_tooltip": null,
            "layout": "IPY_MODEL_1f178d265db1448ab30b18e12447e3c9",
            "placeholder": "​",
            "style": "IPY_MODEL_8b04cf68a25d47c0bfdb007b8bb2ca09",
            "value": "Dl Size...: 100%"
          }
        },
        "90cdbcb0da30415d85f1932a5668890a": {
          "model_module": "@jupyter-widgets/controls",
          "model_name": "FloatProgressModel",
          "model_module_version": "1.5.0",
          "state": {
            "_dom_classes": [],
            "_model_module": "@jupyter-widgets/controls",
            "_model_module_version": "1.5.0",
            "_model_name": "FloatProgressModel",
            "_view_count": null,
            "_view_module": "@jupyter-widgets/controls",
            "_view_module_version": "1.5.0",
            "_view_name": "ProgressView",
            "bar_style": "success",
            "description": "",
            "description_tooltip": null,
            "layout": "IPY_MODEL_0d977ff0733740b4a2de4902a10bbc3a",
            "max": 1,
            "min": 0,
            "orientation": "horizontal",
            "style": "IPY_MODEL_a84920219770459c85f67a7f3194fbbd",
            "value": 1
          }
        },
        "561652137c54446386c3b6d3e45b46a0": {
          "model_module": "@jupyter-widgets/controls",
          "model_name": "HTMLModel",
          "model_module_version": "1.5.0",
          "state": {
            "_dom_classes": [],
            "_model_module": "@jupyter-widgets/controls",
            "_model_module_version": "1.5.0",
            "_model_name": "HTMLModel",
            "_view_count": null,
            "_view_module": "@jupyter-widgets/controls",
            "_view_module_version": "1.5.0",
            "_view_name": "HTMLView",
            "description": "",
            "description_tooltip": null,
            "layout": "IPY_MODEL_5eac971a4a524037ad0ab315dee2863f",
            "placeholder": "​",
            "style": "IPY_MODEL_6e5373ac0c0647aba559804106c057c5",
            "value": " 4764/4764 [06:56&lt;00:00, 14.21 MiB/s]"
          }
        },
        "c533a59fcae74e2cb013d3bda5934961": {
          "model_module": "@jupyter-widgets/base",
          "model_name": "LayoutModel",
          "model_module_version": "1.2.0",
          "state": {
            "_model_module": "@jupyter-widgets/base",
            "_model_module_version": "1.2.0",
            "_model_name": "LayoutModel",
            "_view_count": null,
            "_view_module": "@jupyter-widgets/base",
            "_view_module_version": "1.2.0",
            "_view_name": "LayoutView",
            "align_content": null,
            "align_items": null,
            "align_self": null,
            "border": null,
            "bottom": null,
            "display": null,
            "flex": null,
            "flex_flow": null,
            "grid_area": null,
            "grid_auto_columns": null,
            "grid_auto_flow": null,
            "grid_auto_rows": null,
            "grid_column": null,
            "grid_gap": null,
            "grid_row": null,
            "grid_template_areas": null,
            "grid_template_columns": null,
            "grid_template_rows": null,
            "height": null,
            "justify_content": null,
            "justify_items": null,
            "left": null,
            "margin": null,
            "max_height": null,
            "max_width": null,
            "min_height": null,
            "min_width": null,
            "object_fit": null,
            "object_position": null,
            "order": null,
            "overflow": null,
            "overflow_x": null,
            "overflow_y": null,
            "padding": null,
            "right": null,
            "top": null,
            "visibility": null,
            "width": null
          }
        },
        "1f178d265db1448ab30b18e12447e3c9": {
          "model_module": "@jupyter-widgets/base",
          "model_name": "LayoutModel",
          "model_module_version": "1.2.0",
          "state": {
            "_model_module": "@jupyter-widgets/base",
            "_model_module_version": "1.2.0",
            "_model_name": "LayoutModel",
            "_view_count": null,
            "_view_module": "@jupyter-widgets/base",
            "_view_module_version": "1.2.0",
            "_view_name": "LayoutView",
            "align_content": null,
            "align_items": null,
            "align_self": null,
            "border": null,
            "bottom": null,
            "display": null,
            "flex": null,
            "flex_flow": null,
            "grid_area": null,
            "grid_auto_columns": null,
            "grid_auto_flow": null,
            "grid_auto_rows": null,
            "grid_column": null,
            "grid_gap": null,
            "grid_row": null,
            "grid_template_areas": null,
            "grid_template_columns": null,
            "grid_template_rows": null,
            "height": null,
            "justify_content": null,
            "justify_items": null,
            "left": null,
            "margin": null,
            "max_height": null,
            "max_width": null,
            "min_height": null,
            "min_width": null,
            "object_fit": null,
            "object_position": null,
            "order": null,
            "overflow": null,
            "overflow_x": null,
            "overflow_y": null,
            "padding": null,
            "right": null,
            "top": null,
            "visibility": null,
            "width": null
          }
        },
        "8b04cf68a25d47c0bfdb007b8bb2ca09": {
          "model_module": "@jupyter-widgets/controls",
          "model_name": "DescriptionStyleModel",
          "model_module_version": "1.5.0",
          "state": {
            "_model_module": "@jupyter-widgets/controls",
            "_model_module_version": "1.5.0",
            "_model_name": "DescriptionStyleModel",
            "_view_count": null,
            "_view_module": "@jupyter-widgets/base",
            "_view_module_version": "1.2.0",
            "_view_name": "StyleView",
            "description_width": ""
          }
        },
        "0d977ff0733740b4a2de4902a10bbc3a": {
          "model_module": "@jupyter-widgets/base",
          "model_name": "LayoutModel",
          "model_module_version": "1.2.0",
          "state": {
            "_model_module": "@jupyter-widgets/base",
            "_model_module_version": "1.2.0",
            "_model_name": "LayoutModel",
            "_view_count": null,
            "_view_module": "@jupyter-widgets/base",
            "_view_module_version": "1.2.0",
            "_view_name": "LayoutView",
            "align_content": null,
            "align_items": null,
            "align_self": null,
            "border": null,
            "bottom": null,
            "display": null,
            "flex": null,
            "flex_flow": null,
            "grid_area": null,
            "grid_auto_columns": null,
            "grid_auto_flow": null,
            "grid_auto_rows": null,
            "grid_column": null,
            "grid_gap": null,
            "grid_row": null,
            "grid_template_areas": null,
            "grid_template_columns": null,
            "grid_template_rows": null,
            "height": null,
            "justify_content": null,
            "justify_items": null,
            "left": null,
            "margin": null,
            "max_height": null,
            "max_width": null,
            "min_height": null,
            "min_width": null,
            "object_fit": null,
            "object_position": null,
            "order": null,
            "overflow": null,
            "overflow_x": null,
            "overflow_y": null,
            "padding": null,
            "right": null,
            "top": null,
            "visibility": null,
            "width": "20px"
          }
        },
        "a84920219770459c85f67a7f3194fbbd": {
          "model_module": "@jupyter-widgets/controls",
          "model_name": "ProgressStyleModel",
          "model_module_version": "1.5.0",
          "state": {
            "_model_module": "@jupyter-widgets/controls",
            "_model_module_version": "1.5.0",
            "_model_name": "ProgressStyleModel",
            "_view_count": null,
            "_view_module": "@jupyter-widgets/base",
            "_view_module_version": "1.2.0",
            "_view_name": "StyleView",
            "bar_color": null,
            "description_width": ""
          }
        },
        "5eac971a4a524037ad0ab315dee2863f": {
          "model_module": "@jupyter-widgets/base",
          "model_name": "LayoutModel",
          "model_module_version": "1.2.0",
          "state": {
            "_model_module": "@jupyter-widgets/base",
            "_model_module_version": "1.2.0",
            "_model_name": "LayoutModel",
            "_view_count": null,
            "_view_module": "@jupyter-widgets/base",
            "_view_module_version": "1.2.0",
            "_view_name": "LayoutView",
            "align_content": null,
            "align_items": null,
            "align_self": null,
            "border": null,
            "bottom": null,
            "display": null,
            "flex": null,
            "flex_flow": null,
            "grid_area": null,
            "grid_auto_columns": null,
            "grid_auto_flow": null,
            "grid_auto_rows": null,
            "grid_column": null,
            "grid_gap": null,
            "grid_row": null,
            "grid_template_areas": null,
            "grid_template_columns": null,
            "grid_template_rows": null,
            "height": null,
            "justify_content": null,
            "justify_items": null,
            "left": null,
            "margin": null,
            "max_height": null,
            "max_width": null,
            "min_height": null,
            "min_width": null,
            "object_fit": null,
            "object_position": null,
            "order": null,
            "overflow": null,
            "overflow_x": null,
            "overflow_y": null,
            "padding": null,
            "right": null,
            "top": null,
            "visibility": null,
            "width": null
          }
        },
        "6e5373ac0c0647aba559804106c057c5": {
          "model_module": "@jupyter-widgets/controls",
          "model_name": "DescriptionStyleModel",
          "model_module_version": "1.5.0",
          "state": {
            "_model_module": "@jupyter-widgets/controls",
            "_model_module_version": "1.5.0",
            "_model_name": "DescriptionStyleModel",
            "_view_count": null,
            "_view_module": "@jupyter-widgets/base",
            "_view_module_version": "1.2.0",
            "_view_name": "StyleView",
            "description_width": ""
          }
        },
        "6d079ae749eb48fd876218676b6f751b": {
          "model_module": "@jupyter-widgets/controls",
          "model_name": "HBoxModel",
          "model_module_version": "1.5.0",
          "state": {
            "_dom_classes": [],
            "_model_module": "@jupyter-widgets/controls",
            "_model_module_version": "1.5.0",
            "_model_name": "HBoxModel",
            "_view_count": null,
            "_view_module": "@jupyter-widgets/controls",
            "_view_module_version": "1.5.0",
            "_view_name": "HBoxView",
            "box_style": "",
            "children": [
              "IPY_MODEL_99ba643235064f539b2dc641e4526a91",
              "IPY_MODEL_f880dd1d81d0413fbeeec7febdbaa6cd",
              "IPY_MODEL_f7f2af0737f94ab19f8a393a24fac3e5"
            ],
            "layout": "IPY_MODEL_b129197bc40c4c1e83fbc90ca7201495"
          }
        },
        "99ba643235064f539b2dc641e4526a91": {
          "model_module": "@jupyter-widgets/controls",
          "model_name": "HTMLModel",
          "model_module_version": "1.5.0",
          "state": {
            "_dom_classes": [],
            "_model_module": "@jupyter-widgets/controls",
            "_model_module_version": "1.5.0",
            "_model_name": "HTMLModel",
            "_view_count": null,
            "_view_module": "@jupyter-widgets/controls",
            "_view_module_version": "1.5.0",
            "_view_name": "HTMLView",
            "description": "",
            "description_tooltip": null,
            "layout": "IPY_MODEL_319afd86eea043008ae9a313fc998f4d",
            "placeholder": "​",
            "style": "IPY_MODEL_1fe3a9be521342f18294077599f56cc0",
            "value": "Extraction completed...: 100%"
          }
        },
        "f880dd1d81d0413fbeeec7febdbaa6cd": {
          "model_module": "@jupyter-widgets/controls",
          "model_name": "FloatProgressModel",
          "model_module_version": "1.5.0",
          "state": {
            "_dom_classes": [],
            "_model_module": "@jupyter-widgets/controls",
            "_model_module_version": "1.5.0",
            "_model_name": "FloatProgressModel",
            "_view_count": null,
            "_view_module": "@jupyter-widgets/controls",
            "_view_module_version": "1.5.0",
            "_view_name": "ProgressView",
            "bar_style": "success",
            "description": "",
            "description_tooltip": null,
            "layout": "IPY_MODEL_cf6c1879b04d4ef2b8b134d6ce7eabbc",
            "max": 1,
            "min": 0,
            "orientation": "horizontal",
            "style": "IPY_MODEL_4c05532585b041eeb9d19dfbfb32beea",
            "value": 1
          }
        },
        "f7f2af0737f94ab19f8a393a24fac3e5": {
          "model_module": "@jupyter-widgets/controls",
          "model_name": "HTMLModel",
          "model_module_version": "1.5.0",
          "state": {
            "_dom_classes": [],
            "_model_module": "@jupyter-widgets/controls",
            "_model_module_version": "1.5.0",
            "_model_name": "HTMLModel",
            "_view_count": null,
            "_view_module": "@jupyter-widgets/controls",
            "_view_module_version": "1.5.0",
            "_view_name": "HTMLView",
            "description": "",
            "description_tooltip": null,
            "layout": "IPY_MODEL_73527d9e91b142d69570b2af2f11a016",
            "placeholder": "​",
            "style": "IPY_MODEL_2e07d8a427214321815e0c7fa45a7b7b",
            "value": " 1/1 [06:56&lt;00:00, 416.05s/ file]"
          }
        },
        "b129197bc40c4c1e83fbc90ca7201495": {
          "model_module": "@jupyter-widgets/base",
          "model_name": "LayoutModel",
          "model_module_version": "1.2.0",
          "state": {
            "_model_module": "@jupyter-widgets/base",
            "_model_module_version": "1.2.0",
            "_model_name": "LayoutModel",
            "_view_count": null,
            "_view_module": "@jupyter-widgets/base",
            "_view_module_version": "1.2.0",
            "_view_name": "LayoutView",
            "align_content": null,
            "align_items": null,
            "align_self": null,
            "border": null,
            "bottom": null,
            "display": null,
            "flex": null,
            "flex_flow": null,
            "grid_area": null,
            "grid_auto_columns": null,
            "grid_auto_flow": null,
            "grid_auto_rows": null,
            "grid_column": null,
            "grid_gap": null,
            "grid_row": null,
            "grid_template_areas": null,
            "grid_template_columns": null,
            "grid_template_rows": null,
            "height": null,
            "justify_content": null,
            "justify_items": null,
            "left": null,
            "margin": null,
            "max_height": null,
            "max_width": null,
            "min_height": null,
            "min_width": null,
            "object_fit": null,
            "object_position": null,
            "order": null,
            "overflow": null,
            "overflow_x": null,
            "overflow_y": null,
            "padding": null,
            "right": null,
            "top": null,
            "visibility": null,
            "width": null
          }
        },
        "319afd86eea043008ae9a313fc998f4d": {
          "model_module": "@jupyter-widgets/base",
          "model_name": "LayoutModel",
          "model_module_version": "1.2.0",
          "state": {
            "_model_module": "@jupyter-widgets/base",
            "_model_module_version": "1.2.0",
            "_model_name": "LayoutModel",
            "_view_count": null,
            "_view_module": "@jupyter-widgets/base",
            "_view_module_version": "1.2.0",
            "_view_name": "LayoutView",
            "align_content": null,
            "align_items": null,
            "align_self": null,
            "border": null,
            "bottom": null,
            "display": null,
            "flex": null,
            "flex_flow": null,
            "grid_area": null,
            "grid_auto_columns": null,
            "grid_auto_flow": null,
            "grid_auto_rows": null,
            "grid_column": null,
            "grid_gap": null,
            "grid_row": null,
            "grid_template_areas": null,
            "grid_template_columns": null,
            "grid_template_rows": null,
            "height": null,
            "justify_content": null,
            "justify_items": null,
            "left": null,
            "margin": null,
            "max_height": null,
            "max_width": null,
            "min_height": null,
            "min_width": null,
            "object_fit": null,
            "object_position": null,
            "order": null,
            "overflow": null,
            "overflow_x": null,
            "overflow_y": null,
            "padding": null,
            "right": null,
            "top": null,
            "visibility": null,
            "width": null
          }
        },
        "1fe3a9be521342f18294077599f56cc0": {
          "model_module": "@jupyter-widgets/controls",
          "model_name": "DescriptionStyleModel",
          "model_module_version": "1.5.0",
          "state": {
            "_model_module": "@jupyter-widgets/controls",
            "_model_module_version": "1.5.0",
            "_model_name": "DescriptionStyleModel",
            "_view_count": null,
            "_view_module": "@jupyter-widgets/base",
            "_view_module_version": "1.2.0",
            "_view_name": "StyleView",
            "description_width": ""
          }
        },
        "cf6c1879b04d4ef2b8b134d6ce7eabbc": {
          "model_module": "@jupyter-widgets/base",
          "model_name": "LayoutModel",
          "model_module_version": "1.2.0",
          "state": {
            "_model_module": "@jupyter-widgets/base",
            "_model_module_version": "1.2.0",
            "_model_name": "LayoutModel",
            "_view_count": null,
            "_view_module": "@jupyter-widgets/base",
            "_view_module_version": "1.2.0",
            "_view_name": "LayoutView",
            "align_content": null,
            "align_items": null,
            "align_self": null,
            "border": null,
            "bottom": null,
            "display": null,
            "flex": null,
            "flex_flow": null,
            "grid_area": null,
            "grid_auto_columns": null,
            "grid_auto_flow": null,
            "grid_auto_rows": null,
            "grid_column": null,
            "grid_gap": null,
            "grid_row": null,
            "grid_template_areas": null,
            "grid_template_columns": null,
            "grid_template_rows": null,
            "height": null,
            "justify_content": null,
            "justify_items": null,
            "left": null,
            "margin": null,
            "max_height": null,
            "max_width": null,
            "min_height": null,
            "min_width": null,
            "object_fit": null,
            "object_position": null,
            "order": null,
            "overflow": null,
            "overflow_x": null,
            "overflow_y": null,
            "padding": null,
            "right": null,
            "top": null,
            "visibility": null,
            "width": "20px"
          }
        },
        "4c05532585b041eeb9d19dfbfb32beea": {
          "model_module": "@jupyter-widgets/controls",
          "model_name": "ProgressStyleModel",
          "model_module_version": "1.5.0",
          "state": {
            "_model_module": "@jupyter-widgets/controls",
            "_model_module_version": "1.5.0",
            "_model_name": "ProgressStyleModel",
            "_view_count": null,
            "_view_module": "@jupyter-widgets/base",
            "_view_module_version": "1.2.0",
            "_view_name": "StyleView",
            "bar_color": null,
            "description_width": ""
          }
        },
        "73527d9e91b142d69570b2af2f11a016": {
          "model_module": "@jupyter-widgets/base",
          "model_name": "LayoutModel",
          "model_module_version": "1.2.0",
          "state": {
            "_model_module": "@jupyter-widgets/base",
            "_model_module_version": "1.2.0",
            "_model_name": "LayoutModel",
            "_view_count": null,
            "_view_module": "@jupyter-widgets/base",
            "_view_module_version": "1.2.0",
            "_view_name": "LayoutView",
            "align_content": null,
            "align_items": null,
            "align_self": null,
            "border": null,
            "bottom": null,
            "display": null,
            "flex": null,
            "flex_flow": null,
            "grid_area": null,
            "grid_auto_columns": null,
            "grid_auto_flow": null,
            "grid_auto_rows": null,
            "grid_column": null,
            "grid_gap": null,
            "grid_row": null,
            "grid_template_areas": null,
            "grid_template_columns": null,
            "grid_template_rows": null,
            "height": null,
            "justify_content": null,
            "justify_items": null,
            "left": null,
            "margin": null,
            "max_height": null,
            "max_width": null,
            "min_height": null,
            "min_width": null,
            "object_fit": null,
            "object_position": null,
            "order": null,
            "overflow": null,
            "overflow_x": null,
            "overflow_y": null,
            "padding": null,
            "right": null,
            "top": null,
            "visibility": null,
            "width": null
          }
        },
        "2e07d8a427214321815e0c7fa45a7b7b": {
          "model_module": "@jupyter-widgets/controls",
          "model_name": "DescriptionStyleModel",
          "model_module_version": "1.5.0",
          "state": {
            "_model_module": "@jupyter-widgets/controls",
            "_model_module_version": "1.5.0",
            "_model_name": "DescriptionStyleModel",
            "_view_count": null,
            "_view_module": "@jupyter-widgets/base",
            "_view_module_version": "1.2.0",
            "_view_name": "StyleView",
            "description_width": ""
          }
        },
        "2d937df3dd9d4cd488df17c68c315b3d": {
          "model_module": "@jupyter-widgets/controls",
          "model_name": "HBoxModel",
          "model_module_version": "1.5.0",
          "state": {
            "_dom_classes": [],
            "_model_module": "@jupyter-widgets/controls",
            "_model_module_version": "1.5.0",
            "_model_name": "HBoxModel",
            "_view_count": null,
            "_view_module": "@jupyter-widgets/controls",
            "_view_module_version": "1.5.0",
            "_view_name": "HBoxView",
            "box_style": "",
            "children": [
              "IPY_MODEL_f731f22c572249eb991bfd156be34c91",
              "IPY_MODEL_25176a0a668141ef896aec1ab8ed1776",
              "IPY_MODEL_18f82dc0fbd3440888979333fd67554a"
            ],
            "layout": "IPY_MODEL_1a8f052c928740a0b3eda826bbcda9d9"
          }
        },
        "f731f22c572249eb991bfd156be34c91": {
          "model_module": "@jupyter-widgets/controls",
          "model_name": "HTMLModel",
          "model_module_version": "1.5.0",
          "state": {
            "_dom_classes": [],
            "_model_module": "@jupyter-widgets/controls",
            "_model_module_version": "1.5.0",
            "_model_name": "HTMLModel",
            "_view_count": null,
            "_view_module": "@jupyter-widgets/controls",
            "_view_module_version": "1.5.0",
            "_view_name": "HTMLView",
            "description": "",
            "description_tooltip": null,
            "layout": "IPY_MODEL_dbb1b4e5fd614fb1b4a715cab17365e8",
            "placeholder": "​",
            "style": "IPY_MODEL_108831222ae646db8c0dd23c150ba3b8",
            "value": ""
          }
        },
        "25176a0a668141ef896aec1ab8ed1776": {
          "model_module": "@jupyter-widgets/controls",
          "model_name": "FloatProgressModel",
          "model_module_version": "1.5.0",
          "state": {
            "_dom_classes": [],
            "_model_module": "@jupyter-widgets/controls",
            "_model_module_version": "1.5.0",
            "_model_name": "FloatProgressModel",
            "_view_count": null,
            "_view_module": "@jupyter-widgets/controls",
            "_view_module_version": "1.5.0",
            "_view_name": "ProgressView",
            "bar_style": "info",
            "description": "",
            "description_tooltip": null,
            "layout": "IPY_MODEL_560324f1c31240f186e02038625d5fbd",
            "max": 1,
            "min": 0,
            "orientation": "horizontal",
            "style": "IPY_MODEL_8364eeb2ca924cdabcb3b215d41288c8",
            "value": 1
          }
        },
        "18f82dc0fbd3440888979333fd67554a": {
          "model_module": "@jupyter-widgets/controls",
          "model_name": "HTMLModel",
          "model_module_version": "1.5.0",
          "state": {
            "_dom_classes": [],
            "_model_module": "@jupyter-widgets/controls",
            "_model_module_version": "1.5.0",
            "_model_name": "HTMLModel",
            "_view_count": null,
            "_view_module": "@jupyter-widgets/controls",
            "_view_module_version": "1.5.0",
            "_view_name": "HTMLView",
            "description": "",
            "description_tooltip": null,
            "layout": "IPY_MODEL_51719bac31f74686919de4eac240eb00",
            "placeholder": "​",
            "style": "IPY_MODEL_422c0cdac1934a82aacbf7da2f74bcc3",
            "value": " 75690/0 [01:46&lt;00:00, 902.69 examples/s]"
          }
        },
        "1a8f052c928740a0b3eda826bbcda9d9": {
          "model_module": "@jupyter-widgets/base",
          "model_name": "LayoutModel",
          "model_module_version": "1.2.0",
          "state": {
            "_model_module": "@jupyter-widgets/base",
            "_model_module_version": "1.2.0",
            "_model_name": "LayoutModel",
            "_view_count": null,
            "_view_module": "@jupyter-widgets/base",
            "_view_module_version": "1.2.0",
            "_view_name": "LayoutView",
            "align_content": null,
            "align_items": null,
            "align_self": null,
            "border": null,
            "bottom": null,
            "display": null,
            "flex": null,
            "flex_flow": null,
            "grid_area": null,
            "grid_auto_columns": null,
            "grid_auto_flow": null,
            "grid_auto_rows": null,
            "grid_column": null,
            "grid_gap": null,
            "grid_row": null,
            "grid_template_areas": null,
            "grid_template_columns": null,
            "grid_template_rows": null,
            "height": null,
            "justify_content": null,
            "justify_items": null,
            "left": null,
            "margin": null,
            "max_height": null,
            "max_width": null,
            "min_height": null,
            "min_width": null,
            "object_fit": null,
            "object_position": null,
            "order": null,
            "overflow": null,
            "overflow_x": null,
            "overflow_y": null,
            "padding": null,
            "right": null,
            "top": null,
            "visibility": null,
            "width": null
          }
        },
        "dbb1b4e5fd614fb1b4a715cab17365e8": {
          "model_module": "@jupyter-widgets/base",
          "model_name": "LayoutModel",
          "model_module_version": "1.2.0",
          "state": {
            "_model_module": "@jupyter-widgets/base",
            "_model_module_version": "1.2.0",
            "_model_name": "LayoutModel",
            "_view_count": null,
            "_view_module": "@jupyter-widgets/base",
            "_view_module_version": "1.2.0",
            "_view_name": "LayoutView",
            "align_content": null,
            "align_items": null,
            "align_self": null,
            "border": null,
            "bottom": null,
            "display": null,
            "flex": null,
            "flex_flow": null,
            "grid_area": null,
            "grid_auto_columns": null,
            "grid_auto_flow": null,
            "grid_auto_rows": null,
            "grid_column": null,
            "grid_gap": null,
            "grid_row": null,
            "grid_template_areas": null,
            "grid_template_columns": null,
            "grid_template_rows": null,
            "height": null,
            "justify_content": null,
            "justify_items": null,
            "left": null,
            "margin": null,
            "max_height": null,
            "max_width": null,
            "min_height": null,
            "min_width": null,
            "object_fit": null,
            "object_position": null,
            "order": null,
            "overflow": null,
            "overflow_x": null,
            "overflow_y": null,
            "padding": null,
            "right": null,
            "top": null,
            "visibility": null,
            "width": null
          }
        },
        "108831222ae646db8c0dd23c150ba3b8": {
          "model_module": "@jupyter-widgets/controls",
          "model_name": "DescriptionStyleModel",
          "model_module_version": "1.5.0",
          "state": {
            "_model_module": "@jupyter-widgets/controls",
            "_model_module_version": "1.5.0",
            "_model_name": "DescriptionStyleModel",
            "_view_count": null,
            "_view_module": "@jupyter-widgets/base",
            "_view_module_version": "1.2.0",
            "_view_name": "StyleView",
            "description_width": ""
          }
        },
        "560324f1c31240f186e02038625d5fbd": {
          "model_module": "@jupyter-widgets/base",
          "model_name": "LayoutModel",
          "model_module_version": "1.2.0",
          "state": {
            "_model_module": "@jupyter-widgets/base",
            "_model_module_version": "1.2.0",
            "_model_name": "LayoutModel",
            "_view_count": null,
            "_view_module": "@jupyter-widgets/base",
            "_view_module_version": "1.2.0",
            "_view_name": "LayoutView",
            "align_content": null,
            "align_items": null,
            "align_self": null,
            "border": null,
            "bottom": null,
            "display": null,
            "flex": null,
            "flex_flow": null,
            "grid_area": null,
            "grid_auto_columns": null,
            "grid_auto_flow": null,
            "grid_auto_rows": null,
            "grid_column": null,
            "grid_gap": null,
            "grid_row": null,
            "grid_template_areas": null,
            "grid_template_columns": null,
            "grid_template_rows": null,
            "height": null,
            "justify_content": null,
            "justify_items": null,
            "left": null,
            "margin": null,
            "max_height": null,
            "max_width": null,
            "min_height": null,
            "min_width": null,
            "object_fit": null,
            "object_position": null,
            "order": null,
            "overflow": null,
            "overflow_x": null,
            "overflow_y": null,
            "padding": null,
            "right": null,
            "top": null,
            "visibility": null,
            "width": "20px"
          }
        },
        "8364eeb2ca924cdabcb3b215d41288c8": {
          "model_module": "@jupyter-widgets/controls",
          "model_name": "ProgressStyleModel",
          "model_module_version": "1.5.0",
          "state": {
            "_model_module": "@jupyter-widgets/controls",
            "_model_module_version": "1.5.0",
            "_model_name": "ProgressStyleModel",
            "_view_count": null,
            "_view_module": "@jupyter-widgets/base",
            "_view_module_version": "1.2.0",
            "_view_name": "StyleView",
            "bar_color": null,
            "description_width": ""
          }
        },
        "51719bac31f74686919de4eac240eb00": {
          "model_module": "@jupyter-widgets/base",
          "model_name": "LayoutModel",
          "model_module_version": "1.2.0",
          "state": {
            "_model_module": "@jupyter-widgets/base",
            "_model_module_version": "1.2.0",
            "_model_name": "LayoutModel",
            "_view_count": null,
            "_view_module": "@jupyter-widgets/base",
            "_view_module_version": "1.2.0",
            "_view_name": "LayoutView",
            "align_content": null,
            "align_items": null,
            "align_self": null,
            "border": null,
            "bottom": null,
            "display": null,
            "flex": null,
            "flex_flow": null,
            "grid_area": null,
            "grid_auto_columns": null,
            "grid_auto_flow": null,
            "grid_auto_rows": null,
            "grid_column": null,
            "grid_gap": null,
            "grid_row": null,
            "grid_template_areas": null,
            "grid_template_columns": null,
            "grid_template_rows": null,
            "height": null,
            "justify_content": null,
            "justify_items": null,
            "left": null,
            "margin": null,
            "max_height": null,
            "max_width": null,
            "min_height": null,
            "min_width": null,
            "object_fit": null,
            "object_position": null,
            "order": null,
            "overflow": null,
            "overflow_x": null,
            "overflow_y": null,
            "padding": null,
            "right": null,
            "top": null,
            "visibility": null,
            "width": null
          }
        },
        "422c0cdac1934a82aacbf7da2f74bcc3": {
          "model_module": "@jupyter-widgets/controls",
          "model_name": "DescriptionStyleModel",
          "model_module_version": "1.5.0",
          "state": {
            "_model_module": "@jupyter-widgets/controls",
            "_model_module_version": "1.5.0",
            "_model_name": "DescriptionStyleModel",
            "_view_count": null,
            "_view_module": "@jupyter-widgets/base",
            "_view_module_version": "1.2.0",
            "_view_name": "StyleView",
            "description_width": ""
          }
        },
        "060c0590bcad43d4b78b44ec9c693195": {
          "model_module": "@jupyter-widgets/controls",
          "model_name": "HBoxModel",
          "model_module_version": "1.5.0",
          "state": {
            "_dom_classes": [],
            "_model_module": "@jupyter-widgets/controls",
            "_model_module_version": "1.5.0",
            "_model_name": "HBoxModel",
            "_view_count": null,
            "_view_module": "@jupyter-widgets/controls",
            "_view_module_version": "1.5.0",
            "_view_name": "HBoxView",
            "box_style": "",
            "children": [
              "IPY_MODEL_009d4dbb4aca4510937b484fa29ac4a1",
              "IPY_MODEL_78b9f2e68d29420d9999140d811ebfde",
              "IPY_MODEL_2ce9c7250a194f2ea6bef98c810051b3"
            ],
            "layout": "IPY_MODEL_444bce8ceff44f14ac037d799c6282f2"
          }
        },
        "009d4dbb4aca4510937b484fa29ac4a1": {
          "model_module": "@jupyter-widgets/controls",
          "model_name": "HTMLModel",
          "model_module_version": "1.5.0",
          "state": {
            "_dom_classes": [],
            "_model_module": "@jupyter-widgets/controls",
            "_model_module_version": "1.5.0",
            "_model_name": "HTMLModel",
            "_view_count": null,
            "_view_module": "@jupyter-widgets/controls",
            "_view_module_version": "1.5.0",
            "_view_name": "HTMLView",
            "description": "",
            "description_tooltip": null,
            "layout": "IPY_MODEL_c0da7f4098344bdc8884676c4d093acc",
            "placeholder": "​",
            "style": "IPY_MODEL_4a79423c6aed41cdafb43b76dcbc7a25",
            "value": "100%"
          }
        },
        "78b9f2e68d29420d9999140d811ebfde": {
          "model_module": "@jupyter-widgets/controls",
          "model_name": "FloatProgressModel",
          "model_module_version": "1.5.0",
          "state": {
            "_dom_classes": [],
            "_model_module": "@jupyter-widgets/controls",
            "_model_module_version": "1.5.0",
            "_model_name": "FloatProgressModel",
            "_view_count": null,
            "_view_module": "@jupyter-widgets/controls",
            "_view_module_version": "1.5.0",
            "_view_name": "ProgressView",
            "bar_style": "danger",
            "description": "",
            "description_tooltip": null,
            "layout": "IPY_MODEL_d5ba90e308264ce094528b32ba0eff89",
            "max": 75750,
            "min": 0,
            "orientation": "horizontal",
            "style": "IPY_MODEL_20f3d6881ea04bf2843e3e88786ae5c8",
            "value": 75749
          }
        },
        "2ce9c7250a194f2ea6bef98c810051b3": {
          "model_module": "@jupyter-widgets/controls",
          "model_name": "HTMLModel",
          "model_module_version": "1.5.0",
          "state": {
            "_dom_classes": [],
            "_model_module": "@jupyter-widgets/controls",
            "_model_module_version": "1.5.0",
            "_model_name": "HTMLModel",
            "_view_count": null,
            "_view_module": "@jupyter-widgets/controls",
            "_view_module_version": "1.5.0",
            "_view_name": "HTMLView",
            "description": "",
            "description_tooltip": null,
            "layout": "IPY_MODEL_8e4fd861db2c45f1910336cb710b7c08",
            "placeholder": "​",
            "style": "IPY_MODEL_654f2462cdb24a3590e5f4e595086dcb",
            "value": " 75749/75750 [00:26&lt;00:00, 3294.12 examples/s]"
          }
        },
        "444bce8ceff44f14ac037d799c6282f2": {
          "model_module": "@jupyter-widgets/base",
          "model_name": "LayoutModel",
          "model_module_version": "1.2.0",
          "state": {
            "_model_module": "@jupyter-widgets/base",
            "_model_module_version": "1.2.0",
            "_model_name": "LayoutModel",
            "_view_count": null,
            "_view_module": "@jupyter-widgets/base",
            "_view_module_version": "1.2.0",
            "_view_name": "LayoutView",
            "align_content": null,
            "align_items": null,
            "align_self": null,
            "border": null,
            "bottom": null,
            "display": null,
            "flex": null,
            "flex_flow": null,
            "grid_area": null,
            "grid_auto_columns": null,
            "grid_auto_flow": null,
            "grid_auto_rows": null,
            "grid_column": null,
            "grid_gap": null,
            "grid_row": null,
            "grid_template_areas": null,
            "grid_template_columns": null,
            "grid_template_rows": null,
            "height": null,
            "justify_content": null,
            "justify_items": null,
            "left": null,
            "margin": null,
            "max_height": null,
            "max_width": null,
            "min_height": null,
            "min_width": null,
            "object_fit": null,
            "object_position": null,
            "order": null,
            "overflow": null,
            "overflow_x": null,
            "overflow_y": null,
            "padding": null,
            "right": null,
            "top": null,
            "visibility": null,
            "width": null
          }
        },
        "c0da7f4098344bdc8884676c4d093acc": {
          "model_module": "@jupyter-widgets/base",
          "model_name": "LayoutModel",
          "model_module_version": "1.2.0",
          "state": {
            "_model_module": "@jupyter-widgets/base",
            "_model_module_version": "1.2.0",
            "_model_name": "LayoutModel",
            "_view_count": null,
            "_view_module": "@jupyter-widgets/base",
            "_view_module_version": "1.2.0",
            "_view_name": "LayoutView",
            "align_content": null,
            "align_items": null,
            "align_self": null,
            "border": null,
            "bottom": null,
            "display": null,
            "flex": null,
            "flex_flow": null,
            "grid_area": null,
            "grid_auto_columns": null,
            "grid_auto_flow": null,
            "grid_auto_rows": null,
            "grid_column": null,
            "grid_gap": null,
            "grid_row": null,
            "grid_template_areas": null,
            "grid_template_columns": null,
            "grid_template_rows": null,
            "height": null,
            "justify_content": null,
            "justify_items": null,
            "left": null,
            "margin": null,
            "max_height": null,
            "max_width": null,
            "min_height": null,
            "min_width": null,
            "object_fit": null,
            "object_position": null,
            "order": null,
            "overflow": null,
            "overflow_x": null,
            "overflow_y": null,
            "padding": null,
            "right": null,
            "top": null,
            "visibility": null,
            "width": null
          }
        },
        "4a79423c6aed41cdafb43b76dcbc7a25": {
          "model_module": "@jupyter-widgets/controls",
          "model_name": "DescriptionStyleModel",
          "model_module_version": "1.5.0",
          "state": {
            "_model_module": "@jupyter-widgets/controls",
            "_model_module_version": "1.5.0",
            "_model_name": "DescriptionStyleModel",
            "_view_count": null,
            "_view_module": "@jupyter-widgets/base",
            "_view_module_version": "1.2.0",
            "_view_name": "StyleView",
            "description_width": ""
          }
        },
        "d5ba90e308264ce094528b32ba0eff89": {
          "model_module": "@jupyter-widgets/base",
          "model_name": "LayoutModel",
          "model_module_version": "1.2.0",
          "state": {
            "_model_module": "@jupyter-widgets/base",
            "_model_module_version": "1.2.0",
            "_model_name": "LayoutModel",
            "_view_count": null,
            "_view_module": "@jupyter-widgets/base",
            "_view_module_version": "1.2.0",
            "_view_name": "LayoutView",
            "align_content": null,
            "align_items": null,
            "align_self": null,
            "border": null,
            "bottom": null,
            "display": null,
            "flex": null,
            "flex_flow": null,
            "grid_area": null,
            "grid_auto_columns": null,
            "grid_auto_flow": null,
            "grid_auto_rows": null,
            "grid_column": null,
            "grid_gap": null,
            "grid_row": null,
            "grid_template_areas": null,
            "grid_template_columns": null,
            "grid_template_rows": null,
            "height": null,
            "justify_content": null,
            "justify_items": null,
            "left": null,
            "margin": null,
            "max_height": null,
            "max_width": null,
            "min_height": null,
            "min_width": null,
            "object_fit": null,
            "object_position": null,
            "order": null,
            "overflow": null,
            "overflow_x": null,
            "overflow_y": null,
            "padding": null,
            "right": null,
            "top": null,
            "visibility": null,
            "width": null
          }
        },
        "20f3d6881ea04bf2843e3e88786ae5c8": {
          "model_module": "@jupyter-widgets/controls",
          "model_name": "ProgressStyleModel",
          "model_module_version": "1.5.0",
          "state": {
            "_model_module": "@jupyter-widgets/controls",
            "_model_module_version": "1.5.0",
            "_model_name": "ProgressStyleModel",
            "_view_count": null,
            "_view_module": "@jupyter-widgets/base",
            "_view_module_version": "1.2.0",
            "_view_name": "StyleView",
            "bar_color": null,
            "description_width": ""
          }
        },
        "8e4fd861db2c45f1910336cb710b7c08": {
          "model_module": "@jupyter-widgets/base",
          "model_name": "LayoutModel",
          "model_module_version": "1.2.0",
          "state": {
            "_model_module": "@jupyter-widgets/base",
            "_model_module_version": "1.2.0",
            "_model_name": "LayoutModel",
            "_view_count": null,
            "_view_module": "@jupyter-widgets/base",
            "_view_module_version": "1.2.0",
            "_view_name": "LayoutView",
            "align_content": null,
            "align_items": null,
            "align_self": null,
            "border": null,
            "bottom": null,
            "display": null,
            "flex": null,
            "flex_flow": null,
            "grid_area": null,
            "grid_auto_columns": null,
            "grid_auto_flow": null,
            "grid_auto_rows": null,
            "grid_column": null,
            "grid_gap": null,
            "grid_row": null,
            "grid_template_areas": null,
            "grid_template_columns": null,
            "grid_template_rows": null,
            "height": null,
            "justify_content": null,
            "justify_items": null,
            "left": null,
            "margin": null,
            "max_height": null,
            "max_width": null,
            "min_height": null,
            "min_width": null,
            "object_fit": null,
            "object_position": null,
            "order": null,
            "overflow": null,
            "overflow_x": null,
            "overflow_y": null,
            "padding": null,
            "right": null,
            "top": null,
            "visibility": null,
            "width": null
          }
        },
        "654f2462cdb24a3590e5f4e595086dcb": {
          "model_module": "@jupyter-widgets/controls",
          "model_name": "DescriptionStyleModel",
          "model_module_version": "1.5.0",
          "state": {
            "_model_module": "@jupyter-widgets/controls",
            "_model_module_version": "1.5.0",
            "_model_name": "DescriptionStyleModel",
            "_view_count": null,
            "_view_module": "@jupyter-widgets/base",
            "_view_module_version": "1.2.0",
            "_view_name": "StyleView",
            "description_width": ""
          }
        },
        "ddb1c7a33fd746fba96e7c5daf44c514": {
          "model_module": "@jupyter-widgets/controls",
          "model_name": "HBoxModel",
          "model_module_version": "1.5.0",
          "state": {
            "_dom_classes": [],
            "_model_module": "@jupyter-widgets/controls",
            "_model_module_version": "1.5.0",
            "_model_name": "HBoxModel",
            "_view_count": null,
            "_view_module": "@jupyter-widgets/controls",
            "_view_module_version": "1.5.0",
            "_view_name": "HBoxView",
            "box_style": "",
            "children": [
              "IPY_MODEL_f5a93d5e25fc4098ad52198844810551",
              "IPY_MODEL_a37800b71fe24a7ea98facd47a76cbb6",
              "IPY_MODEL_3b68a9f340f148ae98f6c8bdf1b83235"
            ],
            "layout": "IPY_MODEL_c54fe94f4f3a4629941680d82865a17b"
          }
        },
        "f5a93d5e25fc4098ad52198844810551": {
          "model_module": "@jupyter-widgets/controls",
          "model_name": "HTMLModel",
          "model_module_version": "1.5.0",
          "state": {
            "_dom_classes": [],
            "_model_module": "@jupyter-widgets/controls",
            "_model_module_version": "1.5.0",
            "_model_name": "HTMLModel",
            "_view_count": null,
            "_view_module": "@jupyter-widgets/controls",
            "_view_module_version": "1.5.0",
            "_view_name": "HTMLView",
            "description": "",
            "description_tooltip": null,
            "layout": "IPY_MODEL_4c8ace63333a49ce9fe7439915fd16f5",
            "placeholder": "​",
            "style": "IPY_MODEL_7495bf5c75d14bcb934139a64a616ac2",
            "value": ""
          }
        },
        "a37800b71fe24a7ea98facd47a76cbb6": {
          "model_module": "@jupyter-widgets/controls",
          "model_name": "FloatProgressModel",
          "model_module_version": "1.5.0",
          "state": {
            "_dom_classes": [],
            "_model_module": "@jupyter-widgets/controls",
            "_model_module_version": "1.5.0",
            "_model_name": "FloatProgressModel",
            "_view_count": null,
            "_view_module": "@jupyter-widgets/controls",
            "_view_module_version": "1.5.0",
            "_view_name": "ProgressView",
            "bar_style": "info",
            "description": "",
            "description_tooltip": null,
            "layout": "IPY_MODEL_439437f272a8453883e6a572c56ff4ab",
            "max": 1,
            "min": 0,
            "orientation": "horizontal",
            "style": "IPY_MODEL_1bcf1c98ea164e82b0693fcbddf5fcb7",
            "value": 1
          }
        },
        "3b68a9f340f148ae98f6c8bdf1b83235": {
          "model_module": "@jupyter-widgets/controls",
          "model_name": "HTMLModel",
          "model_module_version": "1.5.0",
          "state": {
            "_dom_classes": [],
            "_model_module": "@jupyter-widgets/controls",
            "_model_module_version": "1.5.0",
            "_model_name": "HTMLModel",
            "_view_count": null,
            "_view_module": "@jupyter-widgets/controls",
            "_view_module_version": "1.5.0",
            "_view_name": "HTMLView",
            "description": "",
            "description_tooltip": null,
            "layout": "IPY_MODEL_ada3cccd0a98497d9f759bc2c9fd54e0",
            "placeholder": "​",
            "style": "IPY_MODEL_97a297f539ff417ea346794679b63749",
            "value": " 25245/0 [00:57&lt;00:00, 498.93 examples/s]"
          }
        },
        "c54fe94f4f3a4629941680d82865a17b": {
          "model_module": "@jupyter-widgets/base",
          "model_name": "LayoutModel",
          "model_module_version": "1.2.0",
          "state": {
            "_model_module": "@jupyter-widgets/base",
            "_model_module_version": "1.2.0",
            "_model_name": "LayoutModel",
            "_view_count": null,
            "_view_module": "@jupyter-widgets/base",
            "_view_module_version": "1.2.0",
            "_view_name": "LayoutView",
            "align_content": null,
            "align_items": null,
            "align_self": null,
            "border": null,
            "bottom": null,
            "display": null,
            "flex": null,
            "flex_flow": null,
            "grid_area": null,
            "grid_auto_columns": null,
            "grid_auto_flow": null,
            "grid_auto_rows": null,
            "grid_column": null,
            "grid_gap": null,
            "grid_row": null,
            "grid_template_areas": null,
            "grid_template_columns": null,
            "grid_template_rows": null,
            "height": null,
            "justify_content": null,
            "justify_items": null,
            "left": null,
            "margin": null,
            "max_height": null,
            "max_width": null,
            "min_height": null,
            "min_width": null,
            "object_fit": null,
            "object_position": null,
            "order": null,
            "overflow": null,
            "overflow_x": null,
            "overflow_y": null,
            "padding": null,
            "right": null,
            "top": null,
            "visibility": null,
            "width": null
          }
        },
        "4c8ace63333a49ce9fe7439915fd16f5": {
          "model_module": "@jupyter-widgets/base",
          "model_name": "LayoutModel",
          "model_module_version": "1.2.0",
          "state": {
            "_model_module": "@jupyter-widgets/base",
            "_model_module_version": "1.2.0",
            "_model_name": "LayoutModel",
            "_view_count": null,
            "_view_module": "@jupyter-widgets/base",
            "_view_module_version": "1.2.0",
            "_view_name": "LayoutView",
            "align_content": null,
            "align_items": null,
            "align_self": null,
            "border": null,
            "bottom": null,
            "display": null,
            "flex": null,
            "flex_flow": null,
            "grid_area": null,
            "grid_auto_columns": null,
            "grid_auto_flow": null,
            "grid_auto_rows": null,
            "grid_column": null,
            "grid_gap": null,
            "grid_row": null,
            "grid_template_areas": null,
            "grid_template_columns": null,
            "grid_template_rows": null,
            "height": null,
            "justify_content": null,
            "justify_items": null,
            "left": null,
            "margin": null,
            "max_height": null,
            "max_width": null,
            "min_height": null,
            "min_width": null,
            "object_fit": null,
            "object_position": null,
            "order": null,
            "overflow": null,
            "overflow_x": null,
            "overflow_y": null,
            "padding": null,
            "right": null,
            "top": null,
            "visibility": null,
            "width": null
          }
        },
        "7495bf5c75d14bcb934139a64a616ac2": {
          "model_module": "@jupyter-widgets/controls",
          "model_name": "DescriptionStyleModel",
          "model_module_version": "1.5.0",
          "state": {
            "_model_module": "@jupyter-widgets/controls",
            "_model_module_version": "1.5.0",
            "_model_name": "DescriptionStyleModel",
            "_view_count": null,
            "_view_module": "@jupyter-widgets/base",
            "_view_module_version": "1.2.0",
            "_view_name": "StyleView",
            "description_width": ""
          }
        },
        "439437f272a8453883e6a572c56ff4ab": {
          "model_module": "@jupyter-widgets/base",
          "model_name": "LayoutModel",
          "model_module_version": "1.2.0",
          "state": {
            "_model_module": "@jupyter-widgets/base",
            "_model_module_version": "1.2.0",
            "_model_name": "LayoutModel",
            "_view_count": null,
            "_view_module": "@jupyter-widgets/base",
            "_view_module_version": "1.2.0",
            "_view_name": "LayoutView",
            "align_content": null,
            "align_items": null,
            "align_self": null,
            "border": null,
            "bottom": null,
            "display": null,
            "flex": null,
            "flex_flow": null,
            "grid_area": null,
            "grid_auto_columns": null,
            "grid_auto_flow": null,
            "grid_auto_rows": null,
            "grid_column": null,
            "grid_gap": null,
            "grid_row": null,
            "grid_template_areas": null,
            "grid_template_columns": null,
            "grid_template_rows": null,
            "height": null,
            "justify_content": null,
            "justify_items": null,
            "left": null,
            "margin": null,
            "max_height": null,
            "max_width": null,
            "min_height": null,
            "min_width": null,
            "object_fit": null,
            "object_position": null,
            "order": null,
            "overflow": null,
            "overflow_x": null,
            "overflow_y": null,
            "padding": null,
            "right": null,
            "top": null,
            "visibility": null,
            "width": "20px"
          }
        },
        "1bcf1c98ea164e82b0693fcbddf5fcb7": {
          "model_module": "@jupyter-widgets/controls",
          "model_name": "ProgressStyleModel",
          "model_module_version": "1.5.0",
          "state": {
            "_model_module": "@jupyter-widgets/controls",
            "_model_module_version": "1.5.0",
            "_model_name": "ProgressStyleModel",
            "_view_count": null,
            "_view_module": "@jupyter-widgets/base",
            "_view_module_version": "1.2.0",
            "_view_name": "StyleView",
            "bar_color": null,
            "description_width": ""
          }
        },
        "ada3cccd0a98497d9f759bc2c9fd54e0": {
          "model_module": "@jupyter-widgets/base",
          "model_name": "LayoutModel",
          "model_module_version": "1.2.0",
          "state": {
            "_model_module": "@jupyter-widgets/base",
            "_model_module_version": "1.2.0",
            "_model_name": "LayoutModel",
            "_view_count": null,
            "_view_module": "@jupyter-widgets/base",
            "_view_module_version": "1.2.0",
            "_view_name": "LayoutView",
            "align_content": null,
            "align_items": null,
            "align_self": null,
            "border": null,
            "bottom": null,
            "display": null,
            "flex": null,
            "flex_flow": null,
            "grid_area": null,
            "grid_auto_columns": null,
            "grid_auto_flow": null,
            "grid_auto_rows": null,
            "grid_column": null,
            "grid_gap": null,
            "grid_row": null,
            "grid_template_areas": null,
            "grid_template_columns": null,
            "grid_template_rows": null,
            "height": null,
            "justify_content": null,
            "justify_items": null,
            "left": null,
            "margin": null,
            "max_height": null,
            "max_width": null,
            "min_height": null,
            "min_width": null,
            "object_fit": null,
            "object_position": null,
            "order": null,
            "overflow": null,
            "overflow_x": null,
            "overflow_y": null,
            "padding": null,
            "right": null,
            "top": null,
            "visibility": null,
            "width": null
          }
        },
        "97a297f539ff417ea346794679b63749": {
          "model_module": "@jupyter-widgets/controls",
          "model_name": "DescriptionStyleModel",
          "model_module_version": "1.5.0",
          "state": {
            "_model_module": "@jupyter-widgets/controls",
            "_model_module_version": "1.5.0",
            "_model_name": "DescriptionStyleModel",
            "_view_count": null,
            "_view_module": "@jupyter-widgets/base",
            "_view_module_version": "1.2.0",
            "_view_name": "StyleView",
            "description_width": ""
          }
        },
        "7cbaf5e40dc64746adb74cd928f4416b": {
          "model_module": "@jupyter-widgets/controls",
          "model_name": "HBoxModel",
          "model_module_version": "1.5.0",
          "state": {
            "_dom_classes": [],
            "_model_module": "@jupyter-widgets/controls",
            "_model_module_version": "1.5.0",
            "_model_name": "HBoxModel",
            "_view_count": null,
            "_view_module": "@jupyter-widgets/controls",
            "_view_module_version": "1.5.0",
            "_view_name": "HBoxView",
            "box_style": "",
            "children": [
              "IPY_MODEL_5c1987c05ec5451e8943e13f8084fd5e",
              "IPY_MODEL_9e1c2f0df2f046f4a26a08ff1c33c3d1",
              "IPY_MODEL_77abdfdada644a10b755df9eaa5b6c80"
            ],
            "layout": "IPY_MODEL_79c20bcf01604209b3fdbe1b3d8376fd"
          }
        },
        "5c1987c05ec5451e8943e13f8084fd5e": {
          "model_module": "@jupyter-widgets/controls",
          "model_name": "HTMLModel",
          "model_module_version": "1.5.0",
          "state": {
            "_dom_classes": [],
            "_model_module": "@jupyter-widgets/controls",
            "_model_module_version": "1.5.0",
            "_model_name": "HTMLModel",
            "_view_count": null,
            "_view_module": "@jupyter-widgets/controls",
            "_view_module_version": "1.5.0",
            "_view_name": "HTMLView",
            "description": "",
            "description_tooltip": null,
            "layout": "IPY_MODEL_a67290ddaad14d4c9ef94366bbf82c7b",
            "placeholder": "​",
            "style": "IPY_MODEL_eb23f94d0d5f47118f60c1562062db67",
            "value": "100%"
          }
        },
        "9e1c2f0df2f046f4a26a08ff1c33c3d1": {
          "model_module": "@jupyter-widgets/controls",
          "model_name": "FloatProgressModel",
          "model_module_version": "1.5.0",
          "state": {
            "_dom_classes": [],
            "_model_module": "@jupyter-widgets/controls",
            "_model_module_version": "1.5.0",
            "_model_name": "FloatProgressModel",
            "_view_count": null,
            "_view_module": "@jupyter-widgets/controls",
            "_view_module_version": "1.5.0",
            "_view_name": "ProgressView",
            "bar_style": "danger",
            "description": "",
            "description_tooltip": null,
            "layout": "IPY_MODEL_85cf4653c0984819bb8980a17dfdc5a0",
            "max": 25250,
            "min": 0,
            "orientation": "horizontal",
            "style": "IPY_MODEL_e6d5c01e94524ab18eef6d58ddef3c4e",
            "value": 25249
          }
        },
        "77abdfdada644a10b755df9eaa5b6c80": {
          "model_module": "@jupyter-widgets/controls",
          "model_name": "HTMLModel",
          "model_module_version": "1.5.0",
          "state": {
            "_dom_classes": [],
            "_model_module": "@jupyter-widgets/controls",
            "_model_module_version": "1.5.0",
            "_model_name": "HTMLModel",
            "_view_count": null,
            "_view_module": "@jupyter-widgets/controls",
            "_view_module_version": "1.5.0",
            "_view_name": "HTMLView",
            "description": "",
            "description_tooltip": null,
            "layout": "IPY_MODEL_25cd3899d7fb4812bb7d59866ae3724f",
            "placeholder": "​",
            "style": "IPY_MODEL_df19332a6467434e90e8acc82ea9cede",
            "value": " 25249/25250 [00:06&lt;00:00, 4624.06 examples/s]"
          }
        },
        "79c20bcf01604209b3fdbe1b3d8376fd": {
          "model_module": "@jupyter-widgets/base",
          "model_name": "LayoutModel",
          "model_module_version": "1.2.0",
          "state": {
            "_model_module": "@jupyter-widgets/base",
            "_model_module_version": "1.2.0",
            "_model_name": "LayoutModel",
            "_view_count": null,
            "_view_module": "@jupyter-widgets/base",
            "_view_module_version": "1.2.0",
            "_view_name": "LayoutView",
            "align_content": null,
            "align_items": null,
            "align_self": null,
            "border": null,
            "bottom": null,
            "display": null,
            "flex": null,
            "flex_flow": null,
            "grid_area": null,
            "grid_auto_columns": null,
            "grid_auto_flow": null,
            "grid_auto_rows": null,
            "grid_column": null,
            "grid_gap": null,
            "grid_row": null,
            "grid_template_areas": null,
            "grid_template_columns": null,
            "grid_template_rows": null,
            "height": null,
            "justify_content": null,
            "justify_items": null,
            "left": null,
            "margin": null,
            "max_height": null,
            "max_width": null,
            "min_height": null,
            "min_width": null,
            "object_fit": null,
            "object_position": null,
            "order": null,
            "overflow": null,
            "overflow_x": null,
            "overflow_y": null,
            "padding": null,
            "right": null,
            "top": null,
            "visibility": null,
            "width": null
          }
        },
        "a67290ddaad14d4c9ef94366bbf82c7b": {
          "model_module": "@jupyter-widgets/base",
          "model_name": "LayoutModel",
          "model_module_version": "1.2.0",
          "state": {
            "_model_module": "@jupyter-widgets/base",
            "_model_module_version": "1.2.0",
            "_model_name": "LayoutModel",
            "_view_count": null,
            "_view_module": "@jupyter-widgets/base",
            "_view_module_version": "1.2.0",
            "_view_name": "LayoutView",
            "align_content": null,
            "align_items": null,
            "align_self": null,
            "border": null,
            "bottom": null,
            "display": null,
            "flex": null,
            "flex_flow": null,
            "grid_area": null,
            "grid_auto_columns": null,
            "grid_auto_flow": null,
            "grid_auto_rows": null,
            "grid_column": null,
            "grid_gap": null,
            "grid_row": null,
            "grid_template_areas": null,
            "grid_template_columns": null,
            "grid_template_rows": null,
            "height": null,
            "justify_content": null,
            "justify_items": null,
            "left": null,
            "margin": null,
            "max_height": null,
            "max_width": null,
            "min_height": null,
            "min_width": null,
            "object_fit": null,
            "object_position": null,
            "order": null,
            "overflow": null,
            "overflow_x": null,
            "overflow_y": null,
            "padding": null,
            "right": null,
            "top": null,
            "visibility": null,
            "width": null
          }
        },
        "eb23f94d0d5f47118f60c1562062db67": {
          "model_module": "@jupyter-widgets/controls",
          "model_name": "DescriptionStyleModel",
          "model_module_version": "1.5.0",
          "state": {
            "_model_module": "@jupyter-widgets/controls",
            "_model_module_version": "1.5.0",
            "_model_name": "DescriptionStyleModel",
            "_view_count": null,
            "_view_module": "@jupyter-widgets/base",
            "_view_module_version": "1.2.0",
            "_view_name": "StyleView",
            "description_width": ""
          }
        },
        "85cf4653c0984819bb8980a17dfdc5a0": {
          "model_module": "@jupyter-widgets/base",
          "model_name": "LayoutModel",
          "model_module_version": "1.2.0",
          "state": {
            "_model_module": "@jupyter-widgets/base",
            "_model_module_version": "1.2.0",
            "_model_name": "LayoutModel",
            "_view_count": null,
            "_view_module": "@jupyter-widgets/base",
            "_view_module_version": "1.2.0",
            "_view_name": "LayoutView",
            "align_content": null,
            "align_items": null,
            "align_self": null,
            "border": null,
            "bottom": null,
            "display": null,
            "flex": null,
            "flex_flow": null,
            "grid_area": null,
            "grid_auto_columns": null,
            "grid_auto_flow": null,
            "grid_auto_rows": null,
            "grid_column": null,
            "grid_gap": null,
            "grid_row": null,
            "grid_template_areas": null,
            "grid_template_columns": null,
            "grid_template_rows": null,
            "height": null,
            "justify_content": null,
            "justify_items": null,
            "left": null,
            "margin": null,
            "max_height": null,
            "max_width": null,
            "min_height": null,
            "min_width": null,
            "object_fit": null,
            "object_position": null,
            "order": null,
            "overflow": null,
            "overflow_x": null,
            "overflow_y": null,
            "padding": null,
            "right": null,
            "top": null,
            "visibility": null,
            "width": null
          }
        },
        "e6d5c01e94524ab18eef6d58ddef3c4e": {
          "model_module": "@jupyter-widgets/controls",
          "model_name": "ProgressStyleModel",
          "model_module_version": "1.5.0",
          "state": {
            "_model_module": "@jupyter-widgets/controls",
            "_model_module_version": "1.5.0",
            "_model_name": "ProgressStyleModel",
            "_view_count": null,
            "_view_module": "@jupyter-widgets/base",
            "_view_module_version": "1.2.0",
            "_view_name": "StyleView",
            "bar_color": null,
            "description_width": ""
          }
        },
        "25cd3899d7fb4812bb7d59866ae3724f": {
          "model_module": "@jupyter-widgets/base",
          "model_name": "LayoutModel",
          "model_module_version": "1.2.0",
          "state": {
            "_model_module": "@jupyter-widgets/base",
            "_model_module_version": "1.2.0",
            "_model_name": "LayoutModel",
            "_view_count": null,
            "_view_module": "@jupyter-widgets/base",
            "_view_module_version": "1.2.0",
            "_view_name": "LayoutView",
            "align_content": null,
            "align_items": null,
            "align_self": null,
            "border": null,
            "bottom": null,
            "display": null,
            "flex": null,
            "flex_flow": null,
            "grid_area": null,
            "grid_auto_columns": null,
            "grid_auto_flow": null,
            "grid_auto_rows": null,
            "grid_column": null,
            "grid_gap": null,
            "grid_row": null,
            "grid_template_areas": null,
            "grid_template_columns": null,
            "grid_template_rows": null,
            "height": null,
            "justify_content": null,
            "justify_items": null,
            "left": null,
            "margin": null,
            "max_height": null,
            "max_width": null,
            "min_height": null,
            "min_width": null,
            "object_fit": null,
            "object_position": null,
            "order": null,
            "overflow": null,
            "overflow_x": null,
            "overflow_y": null,
            "padding": null,
            "right": null,
            "top": null,
            "visibility": null,
            "width": null
          }
        },
        "df19332a6467434e90e8acc82ea9cede": {
          "model_module": "@jupyter-widgets/controls",
          "model_name": "DescriptionStyleModel",
          "model_module_version": "1.5.0",
          "state": {
            "_model_module": "@jupyter-widgets/controls",
            "_model_module_version": "1.5.0",
            "_model_name": "DescriptionStyleModel",
            "_view_count": null,
            "_view_module": "@jupyter-widgets/base",
            "_view_module_version": "1.2.0",
            "_view_name": "StyleView",
            "description_width": ""
          }
        }
      }
    }
  },
  "cells": [
    {
      "cell_type": "markdown",
      "metadata": {
        "id": "view-in-github",
        "colab_type": "text"
      },
      "source": [
        "<a href=\"https://colab.research.google.com/github/Nikhil-Nandam/TensorFlow-Notebooks/blob/main/07_Milestone_Project_1_Food_Vision.ipynb\" target=\"_parent\"><img src=\"https://colab.research.google.com/assets/colab-badge.svg\" alt=\"Open In Colab\"/></a>"
      ]
    },
    {
      "cell_type": "markdown",
      "source": [
        "# Milestone Project 1: 🍔👁 Food Vision Big™"
      ],
      "metadata": {
        "id": "k-sy3ovbGum8"
      }
    },
    {
      "cell_type": "markdown",
      "source": [
        "In the previous notebook ([transfer learning part 3: scaling up](https://github.com/Nikhil-Nandam/TensorFlow-Notebooks/blob/main/06_Transfer_Learning_in_TensorFlow_Part_3_Scaling_Up.ipynb)) we built Food Vision mini: a transfer learning model which beat the original results of the [Food101 paper](https://data.vision.ee.ethz.ch/cvl/datasets_extra/food-101/static/bossard_eccv14_food-101.pdf) with only 10% of the data.\n",
        "\n",
        "But you might be wondering, what would happen if we used all the data?\n",
        "\n",
        "Well, that's what we're going to find out in this notebook!\n",
        "\n",
        "We're going to be building Food Vision Big™, using all of the data from the Food101 dataset.\n",
        "\n",
        "Yep. All 75,750 training images and 25,250 testing images.\n",
        "\n",
        "And guess what...\n",
        "\n",
        "This time **we've got the goal of beating [DeepFood](https://www.researchgate.net/publication/304163308_DeepFood_Deep_Learning-Based_Food_Image_Recognition_for_Computer-Aided_Dietary_Assessment)**, a 2016 paper which used a Convolutional Neural Network trained for 2-3 days to achieve 77.4% top-1 accuracy."
      ],
      "metadata": {
        "id": "gDqflgMOM7Bt"
      }
    },
    {
      "cell_type": "markdown",
      "source": [
        "> 🔑 **Note:** Top-1 accuracy means \"accuracy for the top softmax activation value output by the model\" (because softmax ouputs a value for every class, but top-1 means only the highest one is evaluated). Top-5 accuracy means \"accuracy for the top 5 softmax activation values output by the model\", in other words, did the true label appear in the top 5 activation values? Top-5 accuracy scores are usually noticeably higher than top-1."
      ],
      "metadata": {
        "id": "KUCRQVYfNkNr"
      }
    },
    {
      "cell_type": "markdown",
      "source": [
        "## Check GPU\n",
        "\n",
        "Google Colab offers free GPUs, however not all of them are compatible with mixed precision training.\n",
        "\n",
        "Google Colab offers:\n",
        "* K80 (not compatible)\n",
        "* P100 (not compatible)\n",
        "* Tesla T4 (compatible)\n",
        "\n",
        "Knowing this, inorder to benfit from mixed precision training, we need access to a Tesla T4 GPU (within Google Colab) or if we're using our own hardware, our GPU needs a score of 7.0+ ."
      ],
      "metadata": {
        "id": "NSQXEjPNG62U"
      }
    },
    {
      "cell_type": "markdown",
      "source": [
        "📖 **Resource:** You can read more about the benefits of mixed precision training in the [TensorFlow Mixed Precision documentation](https://www.tensorflow.org/guide/mixed_precision)"
      ],
      "metadata": {
        "id": "Ww5lx_iqcU0f"
      }
    },
    {
      "cell_type": "code",
      "source": [
        "!nvidia-smi -L"
      ],
      "metadata": {
        "id": "6lGHLPO2Hl8Q",
        "colab": {
          "base_uri": "https://localhost:8080/"
        },
        "outputId": "3e92939c-347a-4c12-d1e9-254c6bec304b"
      },
      "execution_count": 1,
      "outputs": [
        {
          "output_type": "stream",
          "name": "stdout",
          "text": [
            "GPU 0: Tesla T4 (UUID: GPU-e9e12f59-83d1-448b-5855-8bcb2826dc9f)\n"
          ]
        }
      ]
    },
    {
      "cell_type": "markdown",
      "source": [
        "## Get helper functions\n",
        "\n",
        "In past modules, we've created a bunch of helper functions to do small tasks required for our notebooks.\n",
        "\n",
        "Rather than rewrite all of these, we can import a script and load them in from there.\n",
        "\n",
        "The [script](https://raw.githubusercontent.com/mrdbourke/tensorflow-deep-learning/main/extras/helper_functions.py) we've got available."
      ],
      "metadata": {
        "id": "Jp7pDIL7Hxsd"
      }
    },
    {
      "cell_type": "code",
      "source": [
        "# Download helper function script\n",
        "!wget https://raw.githubusercontent.com/mrdbourke/tensorflow-deep-learning/main/extras/helper_functions.py"
      ],
      "metadata": {
        "id": "4VkUtrgYHzdf",
        "colab": {
          "base_uri": "https://localhost:8080/"
        },
        "outputId": "987b0051-0915-436b-b07f-3edfae4d6732"
      },
      "execution_count": 2,
      "outputs": [
        {
          "output_type": "stream",
          "name": "stdout",
          "text": [
            "--2022-06-05 10:54:20--  https://raw.githubusercontent.com/mrdbourke/tensorflow-deep-learning/main/extras/helper_functions.py\n",
            "Resolving raw.githubusercontent.com (raw.githubusercontent.com)... 185.199.108.133, 185.199.109.133, 185.199.110.133, ...\n",
            "Connecting to raw.githubusercontent.com (raw.githubusercontent.com)|185.199.108.133|:443... connected.\n",
            "HTTP request sent, awaiting response... 200 OK\n",
            "Length: 10246 (10K) [text/plain]\n",
            "Saving to: ‘helper_functions.py’\n",
            "\n",
            "helper_functions.py 100%[===================>]  10.01K  --.-KB/s    in 0s      \n",
            "\n",
            "2022-06-05 10:54:21 (72.8 MB/s) - ‘helper_functions.py’ saved [10246/10246]\n",
            "\n"
          ]
        }
      ]
    },
    {
      "cell_type": "code",
      "source": [
        "# Import series of helper functions for the notebook\n",
        "from helper_functions import create_tensorboard_callback, plot_loss_curves, compare_historys"
      ],
      "metadata": {
        "id": "yiJRaBmBIdTE"
      },
      "execution_count": 3,
      "outputs": []
    },
    {
      "cell_type": "markdown",
      "source": [
        "## Use TensorFlow Datasets to Download Data\n",
        "\n",
        "If you want to get an overview of TensorFlow Datasets (TFDS), read the [guide](https://www.tensorflow.org/datasets/overview)"
      ],
      "metadata": {
        "id": "5SztRNDD9hpO"
      }
    },
    {
      "cell_type": "code",
      "source": [
        "# Get TensorFlow datasets\n",
        "import tensorflow_datasets as tfds"
      ],
      "metadata": {
        "id": "z70dBrlr9uRI"
      },
      "execution_count": 4,
      "outputs": []
    },
    {
      "cell_type": "code",
      "source": [
        "# List all available datasets\n",
        "datasets_list = tfds.list_builders()    # get all available datasets in TFDS\n",
        "print(\"food101\" in datasets_list)"
      ],
      "metadata": {
        "id": "dcbbWMFE-kDQ",
        "colab": {
          "base_uri": "https://localhost:8080/"
        },
        "outputId": "0b94752f-6945-46f8-9692-d281bdccfdc1"
      },
      "execution_count": 5,
      "outputs": [
        {
          "output_type": "stream",
          "name": "stdout",
          "text": [
            "True\n"
          ]
        }
      ]
    },
    {
      "cell_type": "code",
      "source": [
        "# Load in the data (takes 5-6 minutes in Google Colab)\n",
        "(train_data, test_data), ds_info = tfds.load(name=\"food101\",\n",
        "                                             split=[\"train\", \"validation\"],\n",
        "                                             shuffle_files=True,\n",
        "                                             as_supervised=True,        # data gets returned in tuple format (data, label)\n",
        "                                             with_info=True)"
      ],
      "metadata": {
        "id": "R9KFCzx9-yKc",
        "colab": {
          "base_uri": "https://localhost:8080/",
          "height": 296,
          "referenced_widgets": [
            "79ab40aeb35f40a580b0603d7585a9cf",
            "df1128f00b3f439b8e8791ce468ef171",
            "5c78514800c2483d8af82d1df41f5d55",
            "55f587288677471c9d647136fc9cec54",
            "14c6aa28e0e046a0b12b47dcfaa737d4",
            "96070d343c3f4fcdabfdbcc945e036e5",
            "eb54ca0424c746a883dc591384c57e23",
            "28ccd57fa4c2460980a22fc6127270ea",
            "1438bc737f0b4f29b0f67bf74816a3c1",
            "f40136694b6740dd923bc6f4f7187502",
            "6ba690a9c7a34b5f854da2e68f4e503e",
            "b6d42232920046d9a62e0c79b23951ba",
            "63b8a2dffbc148c186e11a448c1da65c",
            "90cdbcb0da30415d85f1932a5668890a",
            "561652137c54446386c3b6d3e45b46a0",
            "c533a59fcae74e2cb013d3bda5934961",
            "1f178d265db1448ab30b18e12447e3c9",
            "8b04cf68a25d47c0bfdb007b8bb2ca09",
            "0d977ff0733740b4a2de4902a10bbc3a",
            "a84920219770459c85f67a7f3194fbbd",
            "5eac971a4a524037ad0ab315dee2863f",
            "6e5373ac0c0647aba559804106c057c5",
            "6d079ae749eb48fd876218676b6f751b",
            "99ba643235064f539b2dc641e4526a91",
            "f880dd1d81d0413fbeeec7febdbaa6cd",
            "f7f2af0737f94ab19f8a393a24fac3e5",
            "b129197bc40c4c1e83fbc90ca7201495",
            "319afd86eea043008ae9a313fc998f4d",
            "1fe3a9be521342f18294077599f56cc0",
            "cf6c1879b04d4ef2b8b134d6ce7eabbc",
            "4c05532585b041eeb9d19dfbfb32beea",
            "73527d9e91b142d69570b2af2f11a016",
            "2e07d8a427214321815e0c7fa45a7b7b",
            "2d937df3dd9d4cd488df17c68c315b3d",
            "f731f22c572249eb991bfd156be34c91",
            "25176a0a668141ef896aec1ab8ed1776",
            "18f82dc0fbd3440888979333fd67554a",
            "1a8f052c928740a0b3eda826bbcda9d9",
            "dbb1b4e5fd614fb1b4a715cab17365e8",
            "108831222ae646db8c0dd23c150ba3b8",
            "560324f1c31240f186e02038625d5fbd",
            "8364eeb2ca924cdabcb3b215d41288c8",
            "51719bac31f74686919de4eac240eb00",
            "422c0cdac1934a82aacbf7da2f74bcc3",
            "060c0590bcad43d4b78b44ec9c693195",
            "009d4dbb4aca4510937b484fa29ac4a1",
            "78b9f2e68d29420d9999140d811ebfde",
            "2ce9c7250a194f2ea6bef98c810051b3",
            "444bce8ceff44f14ac037d799c6282f2",
            "c0da7f4098344bdc8884676c4d093acc",
            "4a79423c6aed41cdafb43b76dcbc7a25",
            "d5ba90e308264ce094528b32ba0eff89",
            "20f3d6881ea04bf2843e3e88786ae5c8",
            "8e4fd861db2c45f1910336cb710b7c08",
            "654f2462cdb24a3590e5f4e595086dcb",
            "ddb1c7a33fd746fba96e7c5daf44c514",
            "f5a93d5e25fc4098ad52198844810551",
            "a37800b71fe24a7ea98facd47a76cbb6",
            "3b68a9f340f148ae98f6c8bdf1b83235",
            "c54fe94f4f3a4629941680d82865a17b",
            "4c8ace63333a49ce9fe7439915fd16f5",
            "7495bf5c75d14bcb934139a64a616ac2",
            "439437f272a8453883e6a572c56ff4ab",
            "1bcf1c98ea164e82b0693fcbddf5fcb7",
            "ada3cccd0a98497d9f759bc2c9fd54e0",
            "97a297f539ff417ea346794679b63749",
            "7cbaf5e40dc64746adb74cd928f4416b",
            "5c1987c05ec5451e8943e13f8084fd5e",
            "9e1c2f0df2f046f4a26a08ff1c33c3d1",
            "77abdfdada644a10b755df9eaa5b6c80",
            "79c20bcf01604209b3fdbe1b3d8376fd",
            "a67290ddaad14d4c9ef94366bbf82c7b",
            "eb23f94d0d5f47118f60c1562062db67",
            "85cf4653c0984819bb8980a17dfdc5a0",
            "e6d5c01e94524ab18eef6d58ddef3c4e",
            "25cd3899d7fb4812bb7d59866ae3724f",
            "df19332a6467434e90e8acc82ea9cede"
          ]
        },
        "outputId": "e9bd9ed0-2248-4c84-e6c0-8711595c9d2c"
      },
      "execution_count": 6,
      "outputs": [
        {
          "output_type": "stream",
          "name": "stdout",
          "text": [
            "\u001b[1mDownloading and preparing dataset food101/2.0.0 (download: 4.65 GiB, generated: Unknown size, total: 4.65 GiB) to /root/tensorflow_datasets/food101/2.0.0...\u001b[0m\n"
          ]
        },
        {
          "output_type": "display_data",
          "data": {
            "text/plain": [
              "Dl Completed...: 0 url [00:00, ? url/s]"
            ],
            "application/vnd.jupyter.widget-view+json": {
              "version_major": 2,
              "version_minor": 0,
              "model_id": "79ab40aeb35f40a580b0603d7585a9cf"
            }
          },
          "metadata": {}
        },
        {
          "output_type": "display_data",
          "data": {
            "text/plain": [
              "Dl Size...: 0 MiB [00:00, ? MiB/s]"
            ],
            "application/vnd.jupyter.widget-view+json": {
              "version_major": 2,
              "version_minor": 0,
              "model_id": "b6d42232920046d9a62e0c79b23951ba"
            }
          },
          "metadata": {}
        },
        {
          "output_type": "display_data",
          "data": {
            "text/plain": [
              "Extraction completed...: 0 file [00:00, ? file/s]"
            ],
            "application/vnd.jupyter.widget-view+json": {
              "version_major": 2,
              "version_minor": 0,
              "model_id": "6d079ae749eb48fd876218676b6f751b"
            }
          },
          "metadata": {}
        },
        {
          "output_type": "stream",
          "name": "stdout",
          "text": [
            "\n",
            "\n",
            "\n"
          ]
        },
        {
          "output_type": "display_data",
          "data": {
            "text/plain": [
              "0 examples [00:00, ? examples/s]"
            ],
            "application/vnd.jupyter.widget-view+json": {
              "version_major": 2,
              "version_minor": 0,
              "model_id": "2d937df3dd9d4cd488df17c68c315b3d"
            }
          },
          "metadata": {}
        },
        {
          "output_type": "stream",
          "name": "stdout",
          "text": [
            "Shuffling and writing examples to /root/tensorflow_datasets/food101/2.0.0.incomplete64V2EW/food101-train.tfrecord\n"
          ]
        },
        {
          "output_type": "display_data",
          "data": {
            "text/plain": [
              "  0%|          | 0/75750 [00:00<?, ? examples/s]"
            ],
            "application/vnd.jupyter.widget-view+json": {
              "version_major": 2,
              "version_minor": 0,
              "model_id": "060c0590bcad43d4b78b44ec9c693195"
            }
          },
          "metadata": {}
        },
        {
          "output_type": "display_data",
          "data": {
            "text/plain": [
              "0 examples [00:00, ? examples/s]"
            ],
            "application/vnd.jupyter.widget-view+json": {
              "version_major": 2,
              "version_minor": 0,
              "model_id": "ddb1c7a33fd746fba96e7c5daf44c514"
            }
          },
          "metadata": {}
        },
        {
          "output_type": "stream",
          "name": "stdout",
          "text": [
            "Shuffling and writing examples to /root/tensorflow_datasets/food101/2.0.0.incomplete64V2EW/food101-validation.tfrecord\n"
          ]
        },
        {
          "output_type": "display_data",
          "data": {
            "text/plain": [
              "  0%|          | 0/25250 [00:00<?, ? examples/s]"
            ],
            "application/vnd.jupyter.widget-view+json": {
              "version_major": 2,
              "version_minor": 0,
              "model_id": "7cbaf5e40dc64746adb74cd928f4416b"
            }
          },
          "metadata": {}
        },
        {
          "output_type": "stream",
          "name": "stdout",
          "text": [
            "\u001b[1mDataset food101 downloaded and prepared to /root/tensorflow_datasets/food101/2.0.0. Subsequent calls will reuse this data.\u001b[0m\n"
          ]
        }
      ]
    },
    {
      "cell_type": "markdown",
      "source": [
        "## Exploring the Food101 data from TensorFlow Datasets\n",
        "\n",
        "To become one with our data, we want to find:\n",
        "* Class names\n",
        "* The shape of our input data (image tensors)\n",
        "* The datatype of our input data\n",
        "* What the labels look like (e.g are they one-hot encoded or are they label encoded)\n",
        "* Do the labels match up with the class names?"
      ],
      "metadata": {
        "id": "Fj8b-zUtCoQb"
      }
    },
    {
      "cell_type": "code",
      "source": [
        "# Features of Food101 from TFDS\n",
        "ds_info.features"
      ],
      "metadata": {
        "id": "KtRkqm_dBWZN",
        "colab": {
          "base_uri": "https://localhost:8080/"
        },
        "outputId": "c22c5c73-a27b-448b-bc20-9f425226b079"
      },
      "execution_count": 7,
      "outputs": [
        {
          "output_type": "execute_result",
          "data": {
            "text/plain": [
              "FeaturesDict({\n",
              "    'image': Image(shape=(None, None, 3), dtype=tf.uint8),\n",
              "    'label': ClassLabel(shape=(), dtype=tf.int64, num_classes=101),\n",
              "})"
            ]
          },
          "metadata": {},
          "execution_count": 7
        }
      ]
    },
    {
      "cell_type": "code",
      "source": [
        "# Get the class names\n",
        "class_names = ds_info.features[\"label\"].names\n",
        "class_names[:10]"
      ],
      "metadata": {
        "id": "WidrCa9bCSsj",
        "colab": {
          "base_uri": "https://localhost:8080/"
        },
        "outputId": "4503a221-654f-4f97-cb0c-da81ceb5af46"
      },
      "execution_count": 8,
      "outputs": [
        {
          "output_type": "execute_result",
          "data": {
            "text/plain": [
              "['apple_pie',\n",
              " 'baby_back_ribs',\n",
              " 'baklava',\n",
              " 'beef_carpaccio',\n",
              " 'beef_tartare',\n",
              " 'beet_salad',\n",
              " 'beignets',\n",
              " 'bibimbap',\n",
              " 'bread_pudding',\n",
              " 'breakfast_burrito']"
            ]
          },
          "metadata": {},
          "execution_count": 8
        }
      ]
    },
    {
      "cell_type": "code",
      "source": [
        "# Take one sample of the train data\n",
        "train_one_sample = train_data.take(1)   # samples are in format (image_tensor, label)"
      ],
      "metadata": {
        "id": "ruk1_u_9D8ux"
      },
      "execution_count": 9,
      "outputs": []
    },
    {
      "cell_type": "code",
      "source": [
        "# What does one sample of our training data look like\n",
        "train_one_sample"
      ],
      "metadata": {
        "colab": {
          "base_uri": "https://localhost:8080/"
        },
        "id": "UO7qrJieEMLZ",
        "outputId": "fbb29030-f61e-4b64-d875-d28f29daaf72"
      },
      "execution_count": 10,
      "outputs": [
        {
          "output_type": "execute_result",
          "data": {
            "text/plain": [
              "<TakeDataset element_spec=(TensorSpec(shape=(None, None, 3), dtype=tf.uint8, name=None), TensorSpec(shape=(), dtype=tf.int64, name=None))>"
            ]
          },
          "metadata": {},
          "execution_count": 10
        }
      ]
    },
    {
      "cell_type": "code",
      "source": [
        "# Output info about our training sample\n",
        "for image, label in train_one_sample:\n",
        "    print(f\"\"\"Image shape: {image.shape}\n",
        "Image datatype: {image.dtype}\n",
        "Target class from Food101 (tensor form): {label}\n",
        "Class name (str form): {class_names[label.numpy()]}\"\"\")"
      ],
      "metadata": {
        "colab": {
          "base_uri": "https://localhost:8080/"
        },
        "id": "KSd5XfmNERIX",
        "outputId": "26d366a9-1173-4ef3-d0d8-d7689497fffe"
      },
      "execution_count": 11,
      "outputs": [
        {
          "output_type": "stream",
          "name": "stdout",
          "text": [
            "Image shape: (512, 512, 3)\n",
            "Image datatype: <dtype: 'uint8'>\n",
            "Target class from Food101 (tensor form): 72\n",
            "Class name (str form): pancakes\n"
          ]
        }
      ]
    },
    {
      "cell_type": "code",
      "source": [
        "# What does our image tensor  from TFDS's Food101 look like?\n",
        "image"
      ],
      "metadata": {
        "colab": {
          "base_uri": "https://localhost:8080/"
        },
        "id": "s7QtiCcxFaMV",
        "outputId": "ce7a7ff5-343f-4ca3-ded2-ef6aacd3f9ea"
      },
      "execution_count": 12,
      "outputs": [
        {
          "output_type": "execute_result",
          "data": {
            "text/plain": [
              "<tf.Tensor: shape=(512, 512, 3), dtype=uint8, numpy=\n",
              "array([[[ 42,  40,  51],\n",
              "        [ 41,  39,  50],\n",
              "        [ 40,  38,  49],\n",
              "        ...,\n",
              "        [ 50,  23,   6],\n",
              "        [ 51,  24,   7],\n",
              "        [ 51,  24,   7]],\n",
              "\n",
              "       [[ 41,  39,  50],\n",
              "        [ 41,  39,  50],\n",
              "        [ 41,  39,  50],\n",
              "        ...,\n",
              "        [ 47,  20,   3],\n",
              "        [ 48,  21,   4],\n",
              "        [ 49,  22,   5]],\n",
              "\n",
              "       [[ 40,  38,  49],\n",
              "        [ 41,  39,  50],\n",
              "        [ 42,  40,  51],\n",
              "        ...,\n",
              "        [ 47,  20,   3],\n",
              "        [ 48,  21,   4],\n",
              "        [ 48,  21,   4]],\n",
              "\n",
              "       ...,\n",
              "\n",
              "       [[188, 180, 191],\n",
              "        [188, 180, 191],\n",
              "        [189, 181, 192],\n",
              "        ...,\n",
              "        [179, 178, 186],\n",
              "        [177, 176, 184],\n",
              "        [175, 174, 182]],\n",
              "\n",
              "       [[185, 177, 188],\n",
              "        [186, 178, 189],\n",
              "        [187, 179, 190],\n",
              "        ...,\n",
              "        [178, 177, 185],\n",
              "        [176, 175, 183],\n",
              "        [175, 174, 182]],\n",
              "\n",
              "       [[179, 171, 182],\n",
              "        [181, 173, 184],\n",
              "        [183, 175, 186],\n",
              "        ...,\n",
              "        [177, 176, 184],\n",
              "        [176, 175, 183],\n",
              "        [174, 173, 181]]], dtype=uint8)>"
            ]
          },
          "metadata": {},
          "execution_count": 12
        }
      ]
    },
    {
      "cell_type": "code",
      "source": [
        "# What are the min and max values of our image tensor?\n",
        "import tensorflow as tf\n",
        "tf.reduce_min(image), tf.reduce_max(image)"
      ],
      "metadata": {
        "colab": {
          "base_uri": "https://localhost:8080/"
        },
        "id": "929rg9FWFr1V",
        "outputId": "de55fcab-22db-4074-fafc-fcfe9f0dfd0f"
      },
      "execution_count": 13,
      "outputs": [
        {
          "output_type": "execute_result",
          "data": {
            "text/plain": [
              "(<tf.Tensor: shape=(), dtype=uint8, numpy=0>,\n",
              " <tf.Tensor: shape=(), dtype=uint8, numpy=255>)"
            ]
          },
          "metadata": {},
          "execution_count": 13
        }
      ]
    },
    {
      "cell_type": "markdown",
      "source": [
        "## Plot an image from TensorFlow Datasets"
      ],
      "metadata": {
        "id": "-esaDVdEFzVa"
      }
    },
    {
      "cell_type": "code",
      "source": [
        "# Plot an image tensor\n",
        "import matplotlib.pyplot as plt\n",
        "plt.imshow(image)\n",
        "plt.title(class_names[label.numpy()])   # Add title to verify the label is associated with the right image\n",
        "plt.axis(False);"
      ],
      "metadata": {
        "colab": {
          "base_uri": "https://localhost:8080/",
          "height": 264
        },
        "id": "wbyviKFIGJyk",
        "outputId": "3bebb08a-e12b-4b62-cdff-761950580beb"
      },
      "execution_count": 14,
      "outputs": [
        {
          "output_type": "display_data",
          "data": {
            "text/plain": [
              "<Figure size 432x288 with 1 Axes>"
            ],
            "image/png": "[encoded data removed]"
          },
          "metadata": {
            "needs_background": "light"
          }
        }
      ]
    },
    {
      "cell_type": "markdown",
      "source": [
        "## Create preprocessing functions for our data\n",
        "\n",
        "Neural networks perform best when data is in a certain way (e.g. batched, normalized, etc).\n",
        "\n",
        "However, not all data (including data from TensorFlow Datasets (TFDS)) comes like this.\n",
        "\n",
        "So in order to get it ready for a neural network, you'll often have to write preprocessing functions and map it to your data.\n",
        "\n",
        "What we know about our data:\n",
        "* In `uint8` datatype\n",
        "* Comprised of all different size tensors (different sized images)\n",
        "* Not scaled (the pixel values are between 9 & 255)\n",
        "\n",
        "What we know models like:\n",
        "* Data in `float32` dtype (or for mixed precision `float16` and `float32`)\n",
        "* For batches, TensorFlow likes all of the tensors within a batch to be of the same size\n",
        "* Scaled (values between 0 & 1) also called normalized tensors generally perform better \n",
        "\n",
        "With these points in mid, we've got a few things we can tackle with a preprocessing function.\n",
        "\n",
        "Since we're going to be using an EfficientNetBX pretrained model from tf.keras.applications, we don't need to rescale our data (these architectures have rescaling built-in).\n",
        "\n",
        "This means our function needs to:\n",
        "1. Reshape our image to all the same size\n",
        "2. Convert the dtype of our image tensors from `uint8` to `float32`"
      ],
      "metadata": {
        "id": "8r68b8niGk_v"
      }
    },
    {
      "cell_type": "code",
      "source": [
        "# Our data comes in the tuple structure: (image, label)"
      ],
      "metadata": {
        "id": "m6MTveKhtMso"
      },
      "execution_count": 15,
      "outputs": []
    },
    {
      "cell_type": "code",
      "source": [
        "# Make a function for preprocessing images\n",
        "def preprocess_image(image, label, img_shape=224):\n",
        "    \"\"\"\n",
        "    Converts image datatype from 'uint8' -> 'float32' and reshapes \n",
        "    image to [img_shape, img_shape, colour_channels]\n",
        "    \"\"\"\n",
        "    image = tf.image.resize(image, [img_shape, img_shape])  # reshape target image\n",
        "    # image = image / 255.                                  # scale image values (not required with EfficientNetBX models from tf.keras.applications)\n",
        "    return tf.cast(image, tf.float32), label                # return (float32_image, label) tuple"
      ],
      "metadata": {
        "id": "T1HBtxWSHYZt"
      },
      "execution_count": 16,
      "outputs": []
    },
    {
      "cell_type": "code",
      "source": [
        "# Preprocess a single sample image and check the outputs\n",
        "preprocessed_img = preprocess_image(image, label)[0]\n",
        "print(f\"Image before preprocessing:\\n {image[:2]}...,\\nShape: {image.shape},\\nDatatype: {image.dtype}\")\n",
        "print(f\"Image after preprocessing:\\n {preprocessed_img[:2]}...,\\nShape: {preprocessed_img.shape},\\nDatatype: {preprocessed_img.dtype}\")"
      ],
      "metadata": {
        "colab": {
          "base_uri": "https://localhost:8080/"
        },
        "id": "EskJr4kwKLWh",
        "outputId": "c5e8b3da-374b-4c4e-dd60-12bb3851a38e"
      },
      "execution_count": 17,
      "outputs": [
        {
          "output_type": "stream",
          "name": "stdout",
          "text": [
            "Image before preprocessing:\n",
            " [[[42 40 51]\n",
            "  [41 39 50]\n",
            "  [40 38 49]\n",
            "  ...\n",
            "  [50 23  6]\n",
            "  [51 24  7]\n",
            "  [51 24  7]]\n",
            "\n",
            " [[41 39 50]\n",
            "  [41 39 50]\n",
            "  [41 39 50]\n",
            "  ...\n",
            "  [47 20  3]\n",
            "  [48 21  4]\n",
            "  [49 22  5]]]...,\n",
            "Shape: (512, 512, 3),\n",
            "Datatype: <dtype: 'uint8'>\n",
            "Image after preprocessing:\n",
            " [[[41.127552  39.127552  50.127552 ]\n",
            "  [40.642857  38.642857  49.642857 ]\n",
            "  [40.285713  38.285713  49.285713 ]\n",
            "  ...\n",
            "  [48.92855   21.928549   4.500022 ]\n",
            "  [47.7398    20.739801   3.7398005]\n",
            "  [49.301044  22.301043   5.3010426]]\n",
            "\n",
            " [[40.642857  38.642857  49.642857 ]\n",
            "  [42.9949    40.9949    51.9949   ]\n",
            "  [41.85714   39.85714   50.85714  ]\n",
            "  ...\n",
            "  [49.127533  22.127531   4.699003 ]\n",
            "  [47.862247  20.862246   3.8622463]\n",
            "  [48.928574  21.928572   4.9285717]]]...,\n",
            "Shape: (224, 224, 3),\n",
            "Datatype: <dtype: 'float32'>\n"
          ]
        }
      ]
    },
    {
      "cell_type": "markdown",
      "source": [
        "## Batch & Prepare Datasets\n",
        "\n",
        "We're now going to make our data input pipeline run really fast.\n",
        "\n",
        "Go through the following [guide](https://www.tensorflow.org/guide/data_performance) for more resources on this."
      ],
      "metadata": {
        "id": "auggbtuKgN_R"
      }
    },
    {
      "cell_type": "code",
      "source": [
        "# Map preprocessing function to training (and parallelize)\n",
        "train_data = train_data.map(map_func=preprocess_image, num_parallel_calls=tf.data.AUTOTUNE)\n",
        "\n",
        "# Shuffle train data and turn it into batches and prefetch it (load it faster)\n",
        "train_data = train_data.shuffle(buffer_size=1000).batch(batch_size=32).prefetch(buffer_size=tf.data.AUTOTUNE)\n",
        "\n",
        "# Map preprocessing function to test data\n",
        "test_data = test_data.map(preprocess_image, num_parallel_calls=tf.data.AUTOTUNE).batch(32).prefetch(buffer_size=tf.data.AUTOTUNE)"
      ],
      "metadata": {
        "id": "N76P35TlKtGk"
      },
      "execution_count": 19,
      "outputs": []
    },
    {
      "cell_type": "code",
      "source": [
        "train_data, test_data"
      ],
      "metadata": {
        "colab": {
          "base_uri": "https://localhost:8080/"
        },
        "id": "5NZ1jsXuja6r",
        "outputId": "4c94e76b-1228-47e6-f7b5-dd3ec63e37de"
      },
      "execution_count": 20,
      "outputs": [
        {
          "output_type": "execute_result",
          "data": {
            "text/plain": [
              "(<PrefetchDataset element_spec=(TensorSpec(shape=(None, 224, 224, 3), dtype=tf.float32, name=None), TensorSpec(shape=(None,), dtype=tf.int64, name=None))>,\n",
              " <PrefetchDataset element_spec=(TensorSpec(shape=(None, 224, 224, 3), dtype=tf.float32, name=None), TensorSpec(shape=(None,), dtype=tf.int64, name=None))>)"
            ]
          },
          "metadata": {},
          "execution_count": 20
        }
      ]
    },
    {
      "cell_type": "markdown",
      "source": [
        "> \"Hey, TensorFlow! Map this preprocessing function (`preprocess_image`) across our training dataset, then shuffle a number of elements and the batch them together an finally make sure you prepare new batches (prefetch) whilst the model is looking through (finding patterns in the current batch)\""
      ],
      "metadata": {
        "id": "I84oUzKujckJ"
      }
    },
    {
      "cell_type": "markdown",
      "source": [
        "## Creating modelling callbacks\n",
        "\n",
        "We're going to create a couple of callbacks to help us while our model trains:\n",
        "- TensorBoard callback to log training results (so we can visualize them later if need be)\n",
        "- ModelCheckpoint callback to save our model's progress after feature extraction"
      ],
      "metadata": {
        "id": "tJTdRMBdkdZ7"
      }
    },
    {
      "cell_type": "code",
      "source": [
        "# Create tensorboard callback (import from helper_functions.py)\n",
        "from helper_functions import create_tensorboard_callback\n",
        "from tensorflow.keras.callbacks import ModelCheckpoint\n",
        "\n",
        "# Create ModelCheckpoint callback to save a model's progress during training\n",
        "checkpoint_path = \"model_checkpoints/cp.ckpt\"\n",
        "model_checkpoint = ModelCheckpoint(checkpoint_path,\n",
        "                                   monitor=\"val_accuracy\",\n",
        "                                   save_best_only=True,\n",
        "                                   save_weights_only=True,\n",
        "                                   verbose=1)   # print whether or not model is being saved"
      ],
      "metadata": {
        "id": "zdyYNsbHlu6F"
      },
      "execution_count": 33,
      "outputs": []
    },
    {
      "cell_type": "markdown",
      "source": [
        "## Setup up mixed precision training\n",
        "\n",
        "First and foremost, for a deeper understanding of mixed precision training, check out the [TensorFlow guide](https://www.tensorflow.org/guide/mixed_precision) for mixed precision.\n",
        "\n",
        "Mixed precision utilizes a combination of float32 and float16 datatypes to speed up model performance."
      ],
      "metadata": {
        "id": "MFaJMSIunVbc"
      }
    },
    {
      "cell_type": "code",
      "source": [
        "# Turn on mixed precision training\n",
        "from tensorflow.keras import mixed_precision\n",
        "mixed_precision.set_global_policy(\"mixed_float16\")  # set global data policy to mixed precision"
      ],
      "metadata": {
        "id": "WPzJl7gKnltv"
      },
      "execution_count": 34,
      "outputs": []
    },
    {
      "cell_type": "code",
      "source": [
        "!nvidia-smi"
      ],
      "metadata": {
        "colab": {
          "base_uri": "https://localhost:8080/"
        },
        "id": "wdqC0XoSpVZs",
        "outputId": "877ad506-31d8-498f-e4a8-0901fe1646f3"
      },
      "execution_count": 35,
      "outputs": [
        {
          "output_type": "stream",
          "name": "stdout",
          "text": [
            "Sun Jun  5 12:14:53 2022       \n",
            "+-----------------------------------------------------------------------------+\n",
            "| NVIDIA-SMI 460.32.03    Driver Version: 460.32.03    CUDA Version: 11.2     |\n",
            "|-------------------------------+----------------------+----------------------+\n",
            "| GPU  Name        Persistence-M| Bus-Id        Disp.A | Volatile Uncorr. ECC |\n",
            "| Fan  Temp  Perf  Pwr:Usage/Cap|         Memory-Usage | GPU-Util  Compute M. |\n",
            "|                               |                      |               MIG M. |\n",
            "|===============================+======================+======================|\n",
            "|   0  Tesla T4            Off  | 00000000:00:04.0 Off |                    0 |\n",
            "| N/A   72C    P0    30W /  70W |   1258MiB / 15109MiB |      0%      Default |\n",
            "|                               |                      |                  N/A |\n",
            "+-------------------------------+----------------------+----------------------+\n",
            "                                                                               \n",
            "+-----------------------------------------------------------------------------+\n",
            "| Processes:                                                                  |\n",
            "|  GPU   GI   CI        PID   Type   Process name                  GPU Memory |\n",
            "|        ID   ID                                                   Usage      |\n",
            "|=============================================================================|\n",
            "+-----------------------------------------------------------------------------+\n"
          ]
        }
      ]
    },
    {
      "cell_type": "code",
      "source": [
        "mixed_precision.global_policy()"
      ],
      "metadata": {
        "colab": {
          "base_uri": "https://localhost:8080/"
        },
        "id": "jr774T7Toq3U",
        "outputId": "cac6a0bb-611c-4180-ec6b-6fef58c372aa"
      },
      "execution_count": 36,
      "outputs": [
        {
          "output_type": "execute_result",
          "data": {
            "text/plain": [
              "<Policy \"mixed_float16\">"
            ]
          },
          "metadata": {},
          "execution_count": 36
        }
      ]
    },
    {
      "cell_type": "markdown",
      "source": [
        "## Build feature extraction model"
      ],
      "metadata": {
        "id": "CxtJJ1ocpynT"
      }
    },
    {
      "cell_type": "code",
      "source": [
        "from tensorflow.keras.layers import Dense, GlobalAveragePooling2D, Input, Activation\n",
        "from tensorflow.keras.applications import EfficientNetB0\n",
        "from tensorflow.keras import Model\n",
        "from tensorflow.keras.optimizers import Adam\n",
        "\n",
        "# Create base model\n",
        "input_shape = (224, 224, 3)\n",
        "base_model = EfficientNetB0(include_top=False)\n",
        "base_model.trainable = False\n",
        "\n",
        "# Create functional model\n",
        "inputs = Input(shape=input_shape, name=\"input_layer\")\n",
        "# Note: EfficientNetBX models have rescaling built-in but if your model doesn't, you can have a layer like below\n",
        "# x = Rescaling(1/255.)(x)\n",
        "\n",
        "x = base_model(inputs, training=False)     # make sure layers which should be in inference mode only stay like that\n",
        "x = GlobalAveragePooling2D()(x)\n",
        "x = Dense(len(class_names))(x)\n",
        "outputs = Activation(\"softmax\", dtype=tf.float32, name=\"softmax_float32\")(x)\n",
        "\n",
        "model = Model(inputs, outputs)\n",
        "\n",
        "# Compile the model\n",
        "model.compile(loss=\"sparse_categorical_crossentropy\",\n",
        "              optimizer=Adam(),\n",
        "              metrics=[\"accuracy\"])"
      ],
      "metadata": {
        "id": "h36y-lp9rNJG"
      },
      "execution_count": 37,
      "outputs": []
    },
    {
      "cell_type": "code",
      "source": [
        "model.summary()"
      ],
      "metadata": {
        "colab": {
          "base_uri": "https://localhost:8080/"
        },
        "id": "i4n8V4httFDQ",
        "outputId": "6bab1e2b-6068-4b16-b11c-1ba6fd2af8e5"
      },
      "execution_count": 38,
      "outputs": [
        {
          "output_type": "stream",
          "name": "stdout",
          "text": [
            "Model: \"model_1\"\n",
            "_________________________________________________________________\n",
            " Layer (type)                Output Shape              Param #   \n",
            "=================================================================\n",
            " input_layer (InputLayer)    [(None, 224, 224, 3)]     0         \n",
            "                                                                 \n",
            " efficientnetb0 (Functional)  (None, None, None, 1280)  4049571  \n",
            "                                                                 \n",
            " global_average_pooling2d_2   (None, 1280)             0         \n",
            " (GlobalAveragePooling2D)                                        \n",
            "                                                                 \n",
            " dense_2 (Dense)             (None, 101)               129381    \n",
            "                                                                 \n",
            " softmax_float32 (Activation  (None, 101)              0         \n",
            " )                                                               \n",
            "                                                                 \n",
            "=================================================================\n",
            "Total params: 4,178,952\n",
            "Trainable params: 129,381\n",
            "Non-trainable params: 4,049,571\n",
            "_________________________________________________________________\n"
          ]
        }
      ]
    },
    {
      "cell_type": "markdown",
      "source": [
        "## Checking layer dtype policies (are we using mixed precision?)"
      ],
      "metadata": {
        "id": "JSKrv8Amt6wk"
      }
    },
    {
      "cell_type": "code",
      "source": [
        "# Check the dtype_policy attributes of layers in our model\n",
        "for layer in model.layers:\n",
        "    print(layer.name, layer.trainable, layer.dtype, layer.dtype_policy)"
      ],
      "metadata": {
        "colab": {
          "base_uri": "https://localhost:8080/"
        },
        "id": "xxWWyKLutnv2",
        "outputId": "790ace88-e533-42c1-d7b6-eab07a276787"
      },
      "execution_count": 39,
      "outputs": [
        {
          "output_type": "stream",
          "name": "stdout",
          "text": [
            "input_layer True float32 <Policy \"float32\">\n",
            "efficientnetb0 False float32 <Policy \"mixed_float16\">\n",
            "global_average_pooling2d_2 True float32 <Policy \"mixed_float16\">\n",
            "dense_2 True float32 <Policy \"mixed_float16\">\n",
            "softmax_float32 True float32 <Policy \"float32\">\n"
          ]
        }
      ]
    },
    {
      "cell_type": "markdown",
      "source": [
        "Going through the above we see:\n",
        "* `layer.name`: the human readable name of a particular layer\n",
        "* `layer.trainable`: is the layer trainable or not? (if `False`, the weights are frozen\n",
        "* `layer.dtype`: the data type a layer stores its variables in\n",
        "* `layer.dtype_policy`: the data type policy a layer computes on its variables with"
      ],
      "metadata": {
        "id": "7fcaCrcBuXca"
      }
    },
    {
      "cell_type": "code",
      "source": [
        "# Check the dtype_policy attributes of layers in base model\n",
        "for number, layer in enumerate(model.layers[1].layers):    # check the layers of the base model (layer at index 1 of `model`)\n",
        "    print(number, layer.name, layer.trainable, layer.dtype, layer.dtype_policy)"
      ],
      "metadata": {
        "colab": {
          "base_uri": "https://localhost:8080/"
        },
        "id": "kOMJPnryu3U0",
        "outputId": "36cdbe24-276b-45bb-e812-10ef93f86412"
      },
      "execution_count": 41,
      "outputs": [
        {
          "output_type": "stream",
          "name": "stdout",
          "text": [
            "0 input_3 False float32 <Policy \"float32\">\n",
            "1 rescaling_2 False float32 <Policy \"mixed_float16\">\n",
            "2 normalization_2 False float32 <Policy \"mixed_float16\">\n",
            "3 stem_conv_pad False float32 <Policy \"mixed_float16\">\n",
            "4 stem_conv False float32 <Policy \"mixed_float16\">\n",
            "5 stem_bn False float32 <Policy \"mixed_float16\">\n",
            "6 stem_activation False float32 <Policy \"mixed_float16\">\n",
            "7 block1a_dwconv False float32 <Policy \"mixed_float16\">\n",
            "8 block1a_bn False float32 <Policy \"mixed_float16\">\n",
            "9 block1a_activation False float32 <Policy \"mixed_float16\">\n",
            "10 block1a_se_squeeze False float32 <Policy \"mixed_float16\">\n",
            "11 block1a_se_reshape False float32 <Policy \"mixed_float16\">\n",
            "12 block1a_se_reduce False float32 <Policy \"mixed_float16\">\n",
            "13 block1a_se_expand False float32 <Policy \"mixed_float16\">\n",
            "14 block1a_se_excite False float32 <Policy \"mixed_float16\">\n",
            "15 block1a_project_conv False float32 <Policy \"mixed_float16\">\n",
            "16 block1a_project_bn False float32 <Policy \"mixed_float16\">\n",
            "17 block2a_expand_conv False float32 <Policy \"mixed_float16\">\n",
            "18 block2a_expand_bn False float32 <Policy \"mixed_float16\">\n",
            "19 block2a_expand_activation False float32 <Policy \"mixed_float16\">\n",
            "20 block2a_dwconv_pad False float32 <Policy \"mixed_float16\">\n",
            "21 block2a_dwconv False float32 <Policy \"mixed_float16\">\n",
            "22 block2a_bn False float32 <Policy \"mixed_float16\">\n",
            "23 block2a_activation False float32 <Policy \"mixed_float16\">\n",
            "24 block2a_se_squeeze False float32 <Policy \"mixed_float16\">\n",
            "25 block2a_se_reshape False float32 <Policy \"mixed_float16\">\n",
            "26 block2a_se_reduce False float32 <Policy \"mixed_float16\">\n",
            "27 block2a_se_expand False float32 <Policy \"mixed_float16\">\n",
            "28 block2a_se_excite False float32 <Policy \"mixed_float16\">\n",
            "29 block2a_project_conv False float32 <Policy \"mixed_float16\">\n",
            "30 block2a_project_bn False float32 <Policy \"mixed_float16\">\n",
            "31 block2b_expand_conv False float32 <Policy \"mixed_float16\">\n",
            "32 block2b_expand_bn False float32 <Policy \"mixed_float16\">\n",
            "33 block2b_expand_activation False float32 <Policy \"mixed_float16\">\n",
            "34 block2b_dwconv False float32 <Policy \"mixed_float16\">\n",
            "35 block2b_bn False float32 <Policy \"mixed_float16\">\n",
            "36 block2b_activation False float32 <Policy \"mixed_float16\">\n",
            "37 block2b_se_squeeze False float32 <Policy \"mixed_float16\">\n",
            "38 block2b_se_reshape False float32 <Policy \"mixed_float16\">\n",
            "39 block2b_se_reduce False float32 <Policy \"mixed_float16\">\n",
            "40 block2b_se_expand False float32 <Policy \"mixed_float16\">\n",
            "41 block2b_se_excite False float32 <Policy \"mixed_float16\">\n",
            "42 block2b_project_conv False float32 <Policy \"mixed_float16\">\n",
            "43 block2b_project_bn False float32 <Policy \"mixed_float16\">\n",
            "44 block2b_drop False float32 <Policy \"mixed_float16\">\n",
            "45 block2b_add False float32 <Policy \"mixed_float16\">\n",
            "46 block3a_expand_conv False float32 <Policy \"mixed_float16\">\n",
            "47 block3a_expand_bn False float32 <Policy \"mixed_float16\">\n",
            "48 block3a_expand_activation False float32 <Policy \"mixed_float16\">\n",
            "49 block3a_dwconv_pad False float32 <Policy \"mixed_float16\">\n",
            "50 block3a_dwconv False float32 <Policy \"mixed_float16\">\n",
            "51 block3a_bn False float32 <Policy \"mixed_float16\">\n",
            "52 block3a_activation False float32 <Policy \"mixed_float16\">\n",
            "53 block3a_se_squeeze False float32 <Policy \"mixed_float16\">\n",
            "54 block3a_se_reshape False float32 <Policy \"mixed_float16\">\n",
            "55 block3a_se_reduce False float32 <Policy \"mixed_float16\">\n",
            "56 block3a_se_expand False float32 <Policy \"mixed_float16\">\n",
            "57 block3a_se_excite False float32 <Policy \"mixed_float16\">\n",
            "58 block3a_project_conv False float32 <Policy \"mixed_float16\">\n",
            "59 block3a_project_bn False float32 <Policy \"mixed_float16\">\n",
            "60 block3b_expand_conv False float32 <Policy \"mixed_float16\">\n",
            "61 block3b_expand_bn False float32 <Policy \"mixed_float16\">\n",
            "62 block3b_expand_activation False float32 <Policy \"mixed_float16\">\n",
            "63 block3b_dwconv False float32 <Policy \"mixed_float16\">\n",
            "64 block3b_bn False float32 <Policy \"mixed_float16\">\n",
            "65 block3b_activation False float32 <Policy \"mixed_float16\">\n",
            "66 block3b_se_squeeze False float32 <Policy \"mixed_float16\">\n",
            "67 block3b_se_reshape False float32 <Policy \"mixed_float16\">\n",
            "68 block3b_se_reduce False float32 <Policy \"mixed_float16\">\n",
            "69 block3b_se_expand False float32 <Policy \"mixed_float16\">\n",
            "70 block3b_se_excite False float32 <Policy \"mixed_float16\">\n",
            "71 block3b_project_conv False float32 <Policy \"mixed_float16\">\n",
            "72 block3b_project_bn False float32 <Policy \"mixed_float16\">\n",
            "73 block3b_drop False float32 <Policy \"mixed_float16\">\n",
            "74 block3b_add False float32 <Policy \"mixed_float16\">\n",
            "75 block4a_expand_conv False float32 <Policy \"mixed_float16\">\n",
            "76 block4a_expand_bn False float32 <Policy \"mixed_float16\">\n",
            "77 block4a_expand_activation False float32 <Policy \"mixed_float16\">\n",
            "78 block4a_dwconv_pad False float32 <Policy \"mixed_float16\">\n",
            "79 block4a_dwconv False float32 <Policy \"mixed_float16\">\n",
            "80 block4a_bn False float32 <Policy \"mixed_float16\">\n",
            "81 block4a_activation False float32 <Policy \"mixed_float16\">\n",
            "82 block4a_se_squeeze False float32 <Policy \"mixed_float16\">\n",
            "83 block4a_se_reshape False float32 <Policy \"mixed_float16\">\n",
            "84 block4a_se_reduce False float32 <Policy \"mixed_float16\">\n",
            "85 block4a_se_expand False float32 <Policy \"mixed_float16\">\n",
            "86 block4a_se_excite False float32 <Policy \"mixed_float16\">\n",
            "87 block4a_project_conv False float32 <Policy \"mixed_float16\">\n",
            "88 block4a_project_bn False float32 <Policy \"mixed_float16\">\n",
            "89 block4b_expand_conv False float32 <Policy \"mixed_float16\">\n",
            "90 block4b_expand_bn False float32 <Policy \"mixed_float16\">\n",
            "91 block4b_expand_activation False float32 <Policy \"mixed_float16\">\n",
            "92 block4b_dwconv False float32 <Policy \"mixed_float16\">\n",
            "93 block4b_bn False float32 <Policy \"mixed_float16\">\n",
            "94 block4b_activation False float32 <Policy \"mixed_float16\">\n",
            "95 block4b_se_squeeze False float32 <Policy \"mixed_float16\">\n",
            "96 block4b_se_reshape False float32 <Policy \"mixed_float16\">\n",
            "97 block4b_se_reduce False float32 <Policy \"mixed_float16\">\n",
            "98 block4b_se_expand False float32 <Policy \"mixed_float16\">\n",
            "99 block4b_se_excite False float32 <Policy \"mixed_float16\">\n",
            "100 block4b_project_conv False float32 <Policy \"mixed_float16\">\n",
            "101 block4b_project_bn False float32 <Policy \"mixed_float16\">\n",
            "102 block4b_drop False float32 <Policy \"mixed_float16\">\n",
            "103 block4b_add False float32 <Policy \"mixed_float16\">\n",
            "104 block4c_expand_conv False float32 <Policy \"mixed_float16\">\n",
            "105 block4c_expand_bn False float32 <Policy \"mixed_float16\">\n",
            "106 block4c_expand_activation False float32 <Policy \"mixed_float16\">\n",
            "107 block4c_dwconv False float32 <Policy \"mixed_float16\">\n",
            "108 block4c_bn False float32 <Policy \"mixed_float16\">\n",
            "109 block4c_activation False float32 <Policy \"mixed_float16\">\n",
            "110 block4c_se_squeeze False float32 <Policy \"mixed_float16\">\n",
            "111 block4c_se_reshape False float32 <Policy \"mixed_float16\">\n",
            "112 block4c_se_reduce False float32 <Policy \"mixed_float16\">\n",
            "113 block4c_se_expand False float32 <Policy \"mixed_float16\">\n",
            "114 block4c_se_excite False float32 <Policy \"mixed_float16\">\n",
            "115 block4c_project_conv False float32 <Policy \"mixed_float16\">\n",
            "116 block4c_project_bn False float32 <Policy \"mixed_float16\">\n",
            "117 block4c_drop False float32 <Policy \"mixed_float16\">\n",
            "118 block4c_add False float32 <Policy \"mixed_float16\">\n",
            "119 block5a_expand_conv False float32 <Policy \"mixed_float16\">\n",
            "120 block5a_expand_bn False float32 <Policy \"mixed_float16\">\n",
            "121 block5a_expand_activation False float32 <Policy \"mixed_float16\">\n",
            "122 block5a_dwconv False float32 <Policy \"mixed_float16\">\n",
            "123 block5a_bn False float32 <Policy \"mixed_float16\">\n",
            "124 block5a_activation False float32 <Policy \"mixed_float16\">\n",
            "125 block5a_se_squeeze False float32 <Policy \"mixed_float16\">\n",
            "126 block5a_se_reshape False float32 <Policy \"mixed_float16\">\n",
            "127 block5a_se_reduce False float32 <Policy \"mixed_float16\">\n",
            "128 block5a_se_expand False float32 <Policy \"mixed_float16\">\n",
            "129 block5a_se_excite False float32 <Policy \"mixed_float16\">\n",
            "130 block5a_project_conv False float32 <Policy \"mixed_float16\">\n",
            "131 block5a_project_bn False float32 <Policy \"mixed_float16\">\n",
            "132 block5b_expand_conv False float32 <Policy \"mixed_float16\">\n",
            "133 block5b_expand_bn False float32 <Policy \"mixed_float16\">\n",
            "134 block5b_expand_activation False float32 <Policy \"mixed_float16\">\n",
            "135 block5b_dwconv False float32 <Policy \"mixed_float16\">\n",
            "136 block5b_bn False float32 <Policy \"mixed_float16\">\n",
            "137 block5b_activation False float32 <Policy \"mixed_float16\">\n",
            "138 block5b_se_squeeze False float32 <Policy \"mixed_float16\">\n",
            "139 block5b_se_reshape False float32 <Policy \"mixed_float16\">\n",
            "140 block5b_se_reduce False float32 <Policy \"mixed_float16\">\n",
            "141 block5b_se_expand False float32 <Policy \"mixed_float16\">\n",
            "142 block5b_se_excite False float32 <Policy \"mixed_float16\">\n",
            "143 block5b_project_conv False float32 <Policy \"mixed_float16\">\n",
            "144 block5b_project_bn False float32 <Policy \"mixed_float16\">\n",
            "145 block5b_drop False float32 <Policy \"mixed_float16\">\n",
            "146 block5b_add False float32 <Policy \"mixed_float16\">\n",
            "147 block5c_expand_conv False float32 <Policy \"mixed_float16\">\n",
            "148 block5c_expand_bn False float32 <Policy \"mixed_float16\">\n",
            "149 block5c_expand_activation False float32 <Policy \"mixed_float16\">\n",
            "150 block5c_dwconv False float32 <Policy \"mixed_float16\">\n",
            "151 block5c_bn False float32 <Policy \"mixed_float16\">\n",
            "152 block5c_activation False float32 <Policy \"mixed_float16\">\n",
            "153 block5c_se_squeeze False float32 <Policy \"mixed_float16\">\n",
            "154 block5c_se_reshape False float32 <Policy \"mixed_float16\">\n",
            "155 block5c_se_reduce False float32 <Policy \"mixed_float16\">\n",
            "156 block5c_se_expand False float32 <Policy \"mixed_float16\">\n",
            "157 block5c_se_excite False float32 <Policy \"mixed_float16\">\n",
            "158 block5c_project_conv False float32 <Policy \"mixed_float16\">\n",
            "159 block5c_project_bn False float32 <Policy \"mixed_float16\">\n",
            "160 block5c_drop False float32 <Policy \"mixed_float16\">\n",
            "161 block5c_add False float32 <Policy \"mixed_float16\">\n",
            "162 block6a_expand_conv False float32 <Policy \"mixed_float16\">\n",
            "163 block6a_expand_bn False float32 <Policy \"mixed_float16\">\n",
            "164 block6a_expand_activation False float32 <Policy \"mixed_float16\">\n",
            "165 block6a_dwconv_pad False float32 <Policy \"mixed_float16\">\n",
            "166 block6a_dwconv False float32 <Policy \"mixed_float16\">\n",
            "167 block6a_bn False float32 <Policy \"mixed_float16\">\n",
            "168 block6a_activation False float32 <Policy \"mixed_float16\">\n",
            "169 block6a_se_squeeze False float32 <Policy \"mixed_float16\">\n",
            "170 block6a_se_reshape False float32 <Policy \"mixed_float16\">\n",
            "171 block6a_se_reduce False float32 <Policy \"mixed_float16\">\n",
            "172 block6a_se_expand False float32 <Policy \"mixed_float16\">\n",
            "173 block6a_se_excite False float32 <Policy \"mixed_float16\">\n",
            "174 block6a_project_conv False float32 <Policy \"mixed_float16\">\n",
            "175 block6a_project_bn False float32 <Policy \"mixed_float16\">\n",
            "176 block6b_expand_conv False float32 <Policy \"mixed_float16\">\n",
            "177 block6b_expand_bn False float32 <Policy \"mixed_float16\">\n",
            "178 block6b_expand_activation False float32 <Policy \"mixed_float16\">\n",
            "179 block6b_dwconv False float32 <Policy \"mixed_float16\">\n",
            "180 block6b_bn False float32 <Policy \"mixed_float16\">\n",
            "181 block6b_activation False float32 <Policy \"mixed_float16\">\n",
            "182 block6b_se_squeeze False float32 <Policy \"mixed_float16\">\n",
            "183 block6b_se_reshape False float32 <Policy \"mixed_float16\">\n",
            "184 block6b_se_reduce False float32 <Policy \"mixed_float16\">\n",
            "185 block6b_se_expand False float32 <Policy \"mixed_float16\">\n",
            "186 block6b_se_excite False float32 <Policy \"mixed_float16\">\n",
            "187 block6b_project_conv False float32 <Policy \"mixed_float16\">\n",
            "188 block6b_project_bn False float32 <Policy \"mixed_float16\">\n",
            "189 block6b_drop False float32 <Policy \"mixed_float16\">\n",
            "190 block6b_add False float32 <Policy \"mixed_float16\">\n",
            "191 block6c_expand_conv False float32 <Policy \"mixed_float16\">\n",
            "192 block6c_expand_bn False float32 <Policy \"mixed_float16\">\n",
            "193 block6c_expand_activation False float32 <Policy \"mixed_float16\">\n",
            "194 block6c_dwconv False float32 <Policy \"mixed_float16\">\n",
            "195 block6c_bn False float32 <Policy \"mixed_float16\">\n",
            "196 block6c_activation False float32 <Policy \"mixed_float16\">\n",
            "197 block6c_se_squeeze False float32 <Policy \"mixed_float16\">\n",
            "198 block6c_se_reshape False float32 <Policy \"mixed_float16\">\n",
            "199 block6c_se_reduce False float32 <Policy \"mixed_float16\">\n",
            "200 block6c_se_expand False float32 <Policy \"mixed_float16\">\n",
            "201 block6c_se_excite False float32 <Policy \"mixed_float16\">\n",
            "202 block6c_project_conv False float32 <Policy \"mixed_float16\">\n",
            "203 block6c_project_bn False float32 <Policy \"mixed_float16\">\n",
            "204 block6c_drop False float32 <Policy \"mixed_float16\">\n",
            "205 block6c_add False float32 <Policy \"mixed_float16\">\n",
            "206 block6d_expand_conv False float32 <Policy \"mixed_float16\">\n",
            "207 block6d_expand_bn False float32 <Policy \"mixed_float16\">\n",
            "208 block6d_expand_activation False float32 <Policy \"mixed_float16\">\n",
            "209 block6d_dwconv False float32 <Policy \"mixed_float16\">\n",
            "210 block6d_bn False float32 <Policy \"mixed_float16\">\n",
            "211 block6d_activation False float32 <Policy \"mixed_float16\">\n",
            "212 block6d_se_squeeze False float32 <Policy \"mixed_float16\">\n",
            "213 block6d_se_reshape False float32 <Policy \"mixed_float16\">\n",
            "214 block6d_se_reduce False float32 <Policy \"mixed_float16\">\n",
            "215 block6d_se_expand False float32 <Policy \"mixed_float16\">\n",
            "216 block6d_se_excite False float32 <Policy \"mixed_float16\">\n",
            "217 block6d_project_conv False float32 <Policy \"mixed_float16\">\n",
            "218 block6d_project_bn False float32 <Policy \"mixed_float16\">\n",
            "219 block6d_drop False float32 <Policy \"mixed_float16\">\n",
            "220 block6d_add False float32 <Policy \"mixed_float16\">\n",
            "221 block7a_expand_conv False float32 <Policy \"mixed_float16\">\n",
            "222 block7a_expand_bn False float32 <Policy \"mixed_float16\">\n",
            "223 block7a_expand_activation False float32 <Policy \"mixed_float16\">\n",
            "224 block7a_dwconv False float32 <Policy \"mixed_float16\">\n",
            "225 block7a_bn False float32 <Policy \"mixed_float16\">\n",
            "226 block7a_activation False float32 <Policy \"mixed_float16\">\n",
            "227 block7a_se_squeeze False float32 <Policy \"mixed_float16\">\n",
            "228 block7a_se_reshape False float32 <Policy \"mixed_float16\">\n",
            "229 block7a_se_reduce False float32 <Policy \"mixed_float16\">\n",
            "230 block7a_se_expand False float32 <Policy \"mixed_float16\">\n",
            "231 block7a_se_excite False float32 <Policy \"mixed_float16\">\n",
            "232 block7a_project_conv False float32 <Policy \"mixed_float16\">\n",
            "233 block7a_project_bn False float32 <Policy \"mixed_float16\">\n",
            "234 top_conv False float32 <Policy \"mixed_float16\">\n",
            "235 top_bn False float32 <Policy \"mixed_float16\">\n",
            "236 top_activation False float32 <Policy \"mixed_float16\">\n"
          ]
        }
      ]
    },
    {
      "cell_type": "markdown",
      "source": [
        "## Fit the feature extraction model\n",
        "\n",
        "If our goal is to fine-tune a pretrained model, the general order of doing things is:\n",
        "1. Build a feature extraction model (train a couple of output layers with base layers frozen)\n",
        "2. Fine-tune some of the frozen layers\n"
      ],
      "metadata": {
        "id": "hMOaWxkhvdmW"
      }
    },
    {
      "cell_type": "code",
      "source": [
        "# Fit the feature extraction model with callbacks\n",
        "history_101_food_classes_feature_extract = model.fit(train_data,\n",
        "                                                     epochs=3,\n",
        "                                                     steps_per_epoch=len(train_data),\n",
        "                                                     validation_data=test_data,\n",
        "                                                     validation_steps=int(0.15 * len(test_data)),\n",
        "                                                     callbacks=[create_tensorboard_callback(dir_name=\"training_logs\",\n",
        "                                                                                            experiment_name=\"efficientnetb0_101_classes_all_data_feature_extract\"),\n",
        "                                                                model_checkpoint])"
      ],
      "metadata": {
        "colab": {
          "base_uri": "https://localhost:8080/"
        },
        "id": "XmPP8IR_wryp",
        "outputId": "49b1501c-9f6f-49b1-e985-ab1e084e4fb4"
      },
      "execution_count": 42,
      "outputs": [
        {
          "output_type": "stream",
          "name": "stdout",
          "text": [
            "Saving TensorBoard log files to: training_logs/efficientnetb0_101_classes_all_data_feature_extract/20220605-121527\n",
            "Epoch 1/3\n",
            "2368/2368 [==============================] - ETA: 0s - loss: 1.8219 - accuracy: 0.5570\n",
            "Epoch 1: val_accuracy improved from -inf to 0.67611, saving model to model_checkpoints/cp.ckpt\n",
            "2368/2368 [==============================] - 178s 71ms/step - loss: 1.8219 - accuracy: 0.5570 - val_loss: 1.2276 - val_accuracy: 0.6761\n",
            "Epoch 2/3\n",
            "2367/2368 [============================>.] - ETA: 0s - loss: 1.2927 - accuracy: 0.6668\n",
            "Epoch 2: val_accuracy improved from 0.67611 to 0.69730, saving model to model_checkpoints/cp.ckpt\n",
            "2368/2368 [==============================] - 169s 71ms/step - loss: 1.2928 - accuracy: 0.6667 - val_loss: 1.1273 - val_accuracy: 0.6973\n",
            "Epoch 3/3\n",
            "2368/2368 [==============================] - ETA: 0s - loss: 1.1445 - accuracy: 0.7019\n",
            "Epoch 3: val_accuracy improved from 0.69730 to 0.70975, saving model to model_checkpoints/cp.ckpt\n",
            "2368/2368 [==============================] - 168s 70ms/step - loss: 1.1445 - accuracy: 0.7019 - val_loss: 1.0825 - val_accuracy: 0.7097\n"
          ]
        }
      ]
    },
    {
      "cell_type": "code",
      "source": [
        "# Evaluate model on whole test dataset\n",
        "results_feature_extract_model = model.evaluate(test_data)\n",
        "results_feature_extract_model"
      ],
      "metadata": {
        "colab": {
          "base_uri": "https://localhost:8080/"
        },
        "id": "YVhD6yPJxe6c",
        "outputId": "502397d2-1e45-481a-d551-e243420c7ed4"
      },
      "execution_count": 43,
      "outputs": [
        {
          "output_type": "stream",
          "name": "stdout",
          "text": [
            "790/790 [==============================] - 49s 62ms/step - loss: 1.0859 - accuracy: 0.7082\n"
          ]
        },
        {
          "output_type": "execute_result",
          "data": {
            "text/plain": [
              "[1.0859030485153198, 0.7082376480102539]"
            ]
          },
          "metadata": {},
          "execution_count": 43
        }
      ]
    },
    {
      "cell_type": "markdown",
      "source": [
        "## Off to you...\n",
        "\n",
        "We've covered a lot of ground so far but since this is a milestone project, it's time for you to takeover.\n",
        "\n",
        "More specifically, your challenge is to complete the [TEMPLATE]() version of this notebook to obtain a computer vision model (building off the one we've built in this notebook) to beat the DeepFood paper.\n",
        "\n",
        "In other words, you're goint to create Food Vision Big!!!"
      ],
      "metadata": {
        "id": "j5klflFXyiMD"
      }
    },
    {
      "cell_type": "code",
      "source": [
        "save_dir = \"07_efficientnetb0_feature_extract_model_mixed_precision/\"\n",
        "model.save(save_dir)"
      ],
      "metadata": {
        "colab": {
          "base_uri": "https://localhost:8080/"
        },
        "id": "I6V_cQ4N0iZj",
        "outputId": "f7b2a01c-8497-4f10-c5f7-7ff8b52d1dda"
      },
      "execution_count": 45,
      "outputs": [
        {
          "output_type": "stream",
          "name": "stdout",
          "text": [
            "INFO:tensorflow:Assets written to: 07_efficientnetb0_feature_extract_model_mixed_precision/assets\n"
          ]
        },
        {
          "output_type": "stream",
          "name": "stderr",
          "text": [
            "INFO:tensorflow:Assets written to: 07_efficientnetb0_feature_extract_model_mixed_precision/assets\n"
          ]
        }
      ]
    },
    {
      "cell_type": "code",
      "source": [
        "loaded_saved_model = tf.keras.models.load_model(save_dir)"
      ],
      "metadata": {
        "id": "C1dK_pc02NlU"
      },
      "execution_count": 46,
      "outputs": []
    },
    {
      "cell_type": "code",
      "source": [
        "results_loaded_saved_model = loaded_saved_model.evaluate(test_data)\n",
        "results_loaded_saved_model"
      ],
      "metadata": {
        "colab": {
          "base_uri": "https://localhost:8080/"
        },
        "id": "mLDQPNiA2d4M",
        "outputId": "7523a3d2-35ba-4f4b-9611-c3231bfd2b31"
      },
      "execution_count": 47,
      "outputs": [
        {
          "output_type": "stream",
          "name": "stdout",
          "text": [
            "790/790 [==============================] - 64s 78ms/step - loss: 1.0859 - accuracy: 0.7082\n"
          ]
        },
        {
          "output_type": "execute_result",
          "data": {
            "text/plain": [
              "[1.0859029293060303, 0.7082376480102539]"
            ]
          },
          "metadata": {},
          "execution_count": 47
        }
      ]
    },
    {
      "cell_type": "code",
      "source": [
        "import numpy as np\n",
        "assert np.isclose(results_feature_extract_model, results_loaded_saved_model).all()"
      ],
      "metadata": {
        "id": "0zbzxwOz2t7T"
      },
      "execution_count": 49,
      "outputs": []
    },
    {
      "cell_type": "code",
      "source": [
        "# Download the saved model\n",
        "!wget https://storage.googleapis.com/ztm_tf_course/food_vision/07_efficientnetb0_feature_extract_model_mixed_precision.zip "
      ],
      "metadata": {
        "colab": {
          "base_uri": "https://localhost:8080/"
        },
        "id": "pwz8Yytm2yVw",
        "outputId": "58a5acaf-3908-4cbf-9aea-903c3131bdfc"
      },
      "execution_count": 50,
      "outputs": [
        {
          "output_type": "stream",
          "name": "stdout",
          "text": [
            "--2022-06-05 12:34:31--  https://storage.googleapis.com/ztm_tf_course/food_vision/07_efficientnetb0_feature_extract_model_mixed_precision.zip\n",
            "Resolving storage.googleapis.com (storage.googleapis.com)... 74.125.200.128, 74.125.68.128, 74.125.24.128, ...\n",
            "Connecting to storage.googleapis.com (storage.googleapis.com)|74.125.200.128|:443... connected.\n",
            "HTTP request sent, awaiting response... 200 OK\n",
            "Length: 16976857 (16M) [application/zip]\n",
            "Saving to: ‘07_efficientnetb0_feature_extract_model_mixed_precision.zip’\n",
            "\n",
            "07_efficientnetb0_f 100%[===================>]  16.19M  34.6MB/s    in 0.5s    \n",
            "\n",
            "2022-06-05 12:34:33 (34.6 MB/s) - ‘07_efficientnetb0_feature_extract_model_mixed_precision.zip’ saved [16976857/16976857]\n",
            "\n"
          ]
        }
      ]
    },
    {
      "cell_type": "code",
      "source": [
        "# Unzip the SavedModel downloaded from Google Stroage\n",
        "!mkdir downloaded_gs_model # create new dir to store downloaded feature extraction model\n",
        "!unzip 07_efficientnetb0_feature_extract_model_mixed_precision.zip -d downloaded_gs_model"
      ],
      "metadata": {
        "colab": {
          "base_uri": "https://localhost:8080/"
        },
        "id": "K5MSfjwk21yL",
        "outputId": "7d614f65-b90c-407c-91f3-059a17511864"
      },
      "execution_count": 51,
      "outputs": [
        {
          "output_type": "stream",
          "name": "stdout",
          "text": [
            "Archive:  07_efficientnetb0_feature_extract_model_mixed_precision.zip\n",
            "   creating: downloaded_gs_model/07_efficientnetb0_feature_extract_model_mixed_precision/\n",
            "   creating: downloaded_gs_model/07_efficientnetb0_feature_extract_model_mixed_precision/variables/\n",
            "  inflating: downloaded_gs_model/07_efficientnetb0_feature_extract_model_mixed_precision/variables/variables.data-00000-of-00001  \n",
            "  inflating: downloaded_gs_model/07_efficientnetb0_feature_extract_model_mixed_precision/variables/variables.index  \n",
            "  inflating: downloaded_gs_model/07_efficientnetb0_feature_extract_model_mixed_precision/saved_model.pb  \n",
            "   creating: downloaded_gs_model/07_efficientnetb0_feature_extract_model_mixed_precision/assets/\n"
          ]
        }
      ]
    },
    {
      "cell_type": "code",
      "source": [
        "loaded_gs_model = tf.keras.models.load_model(\"/content/downloaded_gs_model/07_efficientnetb0_feature_extract_model_mixed_precision\")"
      ],
      "metadata": {
        "id": "PlJhmm9p3Buo"
      },
      "execution_count": null,
      "outputs": []
    },
    {
      "cell_type": "code",
      "source": [
        "loaded_gs_model.summary()"
      ],
      "metadata": {
        "colab": {
          "base_uri": "https://localhost:8080/"
        },
        "id": "Vch4PbSy3Ceg",
        "outputId": "c82065e2-b380-4a58-c8a9-e55a761f8674"
      },
      "execution_count": 53,
      "outputs": [
        {
          "output_type": "stream",
          "name": "stdout",
          "text": [
            "Model: \"model\"\n",
            "_________________________________________________________________\n",
            " Layer (type)                Output Shape              Param #   \n",
            "=================================================================\n",
            " input_layer (InputLayer)    [(None, 224, 224, 3)]     0         \n",
            "                                                                 \n",
            " efficientnetb0 (Functional)  (None, None, None, 1280)  4049571  \n",
            "                                                                 \n",
            " pooling_layer (GlobalAverag  (None, 1280)             0         \n",
            " ePooling2D)                                                     \n",
            "                                                                 \n",
            " dense (Dense)               (None, 101)               129381    \n",
            "                                                                 \n",
            " softmax_float32 (Activation  (None, 101)              0         \n",
            " )                                                               \n",
            "                                                                 \n",
            "=================================================================\n",
            "Total params: 4,178,952\n",
            "Trainable params: 129,381\n",
            "Non-trainable params: 4,049,571\n",
            "_________________________________________________________________\n"
          ]
        }
      ]
    },
    {
      "cell_type": "code",
      "source": [
        "results_loaded_gs_model = loaded_gs_model.evaluate(test_data)\n",
        "results_loaded_gs_model"
      ],
      "metadata": {
        "colab": {
          "base_uri": "https://localhost:8080/"
        },
        "id": "rfuN3UPG3FzV",
        "outputId": "62068d30-37fe-4913-9a87-8862aa9ecaf3"
      },
      "execution_count": 54,
      "outputs": [
        {
          "output_type": "stream",
          "name": "stdout",
          "text": [
            "790/790 [==============================] - 61s 71ms/step - loss: 1.0881 - accuracy: 0.7065\n"
          ]
        },
        {
          "output_type": "execute_result",
          "data": {
            "text/plain": [
              "[1.088128924369812, 0.7064950466156006]"
            ]
          },
          "metadata": {},
          "execution_count": 54
        }
      ]
    },
    {
      "cell_type": "code",
      "source": [
        "# unfreeze all layers\n",
        "for layer in loaded_gs_model.layers:\n",
        "    layer.trainable = True # set all layers to trainable\n",
        "    print(layer.name, layer.trainable, layer.dtype, layer.dtype_policy) # make sure loaded model is using mixed precision dtype_policy (\"mixed_float16\")"
      ],
      "metadata": {
        "colab": {
          "base_uri": "https://localhost:8080/"
        },
        "id": "GCjbw7vi3IXn",
        "outputId": "d05ff9e8-fe49-4b08-bd47-7515b98bf5e2"
      },
      "execution_count": 55,
      "outputs": [
        {
          "output_type": "stream",
          "name": "stdout",
          "text": [
            "input_layer True float32 <Policy \"float32\">\n",
            "efficientnetb0 True float32 <Policy \"mixed_float16\">\n",
            "pooling_layer True float32 <Policy \"mixed_float16\">\n",
            "dense True float32 <Policy \"mixed_float16\">\n",
            "softmax_float32 True float32 <Policy \"float32\">\n"
          ]
        }
      ]
    },
    {
      "cell_type": "code",
      "source": [
        "# Check the layers in the base model and see what dtype policy they're using\n",
        "for layer in loaded_gs_model.layers[1].layers[:20]:\n",
        "    print(layer.name, layer.trainable, layer.dtype, layer.dtype_policy)"
      ],
      "metadata": {
        "colab": {
          "base_uri": "https://localhost:8080/"
        },
        "id": "Acw82DCU3P3x",
        "outputId": "debf03a8-912b-488f-fe9c-7ced0a4777bb"
      },
      "execution_count": 56,
      "outputs": [
        {
          "output_type": "stream",
          "name": "stdout",
          "text": [
            "input_1 True float32 <Policy \"float32\">\n",
            "rescaling True float32 <Policy \"mixed_float16\">\n",
            "normalization True float32 <Policy \"float32\">\n",
            "stem_conv_pad True float32 <Policy \"mixed_float16\">\n",
            "stem_conv True float32 <Policy \"mixed_float16\">\n",
            "stem_bn True float32 <Policy \"mixed_float16\">\n",
            "stem_activation True float32 <Policy \"mixed_float16\">\n",
            "block1a_dwconv True float32 <Policy \"mixed_float16\">\n",
            "block1a_bn True float32 <Policy \"mixed_float16\">\n",
            "block1a_activation True float32 <Policy \"mixed_float16\">\n",
            "block1a_se_squeeze True float32 <Policy \"mixed_float16\">\n",
            "block1a_se_reshape True float32 <Policy \"mixed_float16\">\n",
            "block1a_se_reduce True float32 <Policy \"mixed_float16\">\n",
            "block1a_se_expand True float32 <Policy \"mixed_float16\">\n",
            "block1a_se_excite True float32 <Policy \"mixed_float16\">\n",
            "block1a_project_conv True float32 <Policy \"mixed_float16\">\n",
            "block1a_project_bn True float32 <Policy \"mixed_float16\">\n",
            "block2a_expand_conv True float32 <Policy \"mixed_float16\">\n",
            "block2a_expand_bn True float32 <Policy \"mixed_float16\">\n",
            "block2a_expand_activation True float32 <Policy \"mixed_float16\">\n"
          ]
        }
      ]
    },
    {
      "cell_type": "code",
      "source": [
        "from tensorflow.keras.callbacks import EarlyStopping, ModelCheckpoint\n",
        "\n",
        "# Setup EarlyStopping callback to stop training if model's val_loss doesn't improve for 3 epochs\n",
        "early_stopping = EarlyStopping(monitor=\"val_loss\",   # watch the val loss metric\n",
        "                               patience=3)           # if val loss decreases for 3 epochs in a row, stop training\n",
        "\n",
        "# Create ModelCheckpoint callback to save best model during fine-tuning\n",
        "checkpoint_path = \"fine_tune_checkpoints/\"\n",
        "model_checkpoint = ModelCheckpoint(checkpoint_path,\n",
        "                                   save_best_only=True,\n",
        "                                   monitor=\"val_loss\")"
      ],
      "metadata": {
        "id": "N6Yq75To3c7R"
      },
      "execution_count": 57,
      "outputs": []
    },
    {
      "cell_type": "code",
      "source": [
        "from tensorflow.keras.callbacks import ReduceLROnPlateau\n",
        "\n",
        "# Creating learning rate reduction callback\n",
        "reduce_lr = ReduceLROnPlateau(monitor=\"val_loss\",  \n",
        "                              factor=0.2,   # multiply the learning rate by 0.2 (reduce by 5x)\n",
        "                              patience=2,\n",
        "                              verbose=1,    # print out when learning rate goes down \n",
        "                              min_lr=1e-7)"
      ],
      "metadata": {
        "id": "kGWbtYWw3rxd"
      },
      "execution_count": 58,
      "outputs": []
    },
    {
      "cell_type": "code",
      "source": [
        "# Compile the model\n",
        "loaded_gs_model.compile(loss=\"sparse_categorical_crossentropy\", # sparse_categorical_crossentropy for labels that are not one-hot\n",
        "                        optimizer=tf.keras.optimizers.Adam(0.0001), # 10x lower learning rate than the default\n",
        "                        metrics=[\"accuracy\"])"
      ],
      "metadata": {
        "id": "n1p8U-NR4AXN"
      },
      "execution_count": 59,
      "outputs": []
    },
    {
      "cell_type": "code",
      "source": [
        "# Start to fine-tune (all layers)\n",
        "history_101_food_classes_all_data_fine_tune = loaded_gs_model.fit(train_data,\n",
        "                                                        epochs=100, # fine-tune for a maximum of 100 epochs\n",
        "                                                        steps_per_epoch=len(train_data),\n",
        "                                                        validation_data=test_data,\n",
        "                                                        validation_steps=int(0.15 * len(test_data)), # validation during training on 15% of test data\n",
        "                                                        callbacks=[create_tensorboard_callback(dir_name=\"training_logs\", \n",
        "                                                                                               experiment_name=\"efficientb0_101_classes_all_data_fine_tuning\"), # track the model training logs\n",
        "                                                                   model_checkpoint,    # save only the best model during training\n",
        "                                                                   early_stopping,      # stop model after X epochs of no improvements\n",
        "                                                                   reduce_lr])          # reduce the learning rate after X epochs of no improvements"
      ],
      "metadata": {
        "colab": {
          "base_uri": "https://localhost:8080/"
        },
        "id": "mxdMFVFr4C7d",
        "outputId": "de4a9af5-ea57-47c9-cbc3-c0fca4a500d7"
      },
      "execution_count": 60,
      "outputs": [
        {
          "output_type": "stream",
          "name": "stdout",
          "text": [
            "Saving TensorBoard log files to: training_logs/efficientb0_101_classes_all_data_fine_tuning/20220605-123946\n",
            "Epoch 1/100\n",
            "2368/2368 [==============================] - ETA: 0s - loss: 0.9223 - accuracy: 0.7509INFO:tensorflow:Assets written to: fine_tune_checkpoints/assets\n"
          ]
        },
        {
          "output_type": "stream",
          "name": "stderr",
          "text": [
            "INFO:tensorflow:Assets written to: fine_tune_checkpoints/assets\n"
          ]
        },
        {
          "output_type": "stream",
          "name": "stdout",
          "text": [
            "\b\b\b\b\b\b\b\b\b\b\b\b\b\b\b\b\b\b\b\b\b\b\b\b\b\b\b\b\b\b\b\b\b\b\b\b\b\b\b\b\b\b\b\b\b\b\b\b\b\b\b\b\b\b\b\b\b\b\b\b\b\b\b\b\b\b\b\b\b\b\b\b\b\b\b\b\b\b\b\b\b\b\b\b\b\b\r2368/2368 [==============================] - 428s 173ms/step - loss: 0.9223 - accuracy: 0.7509 - val_loss: 0.8048 - val_accuracy: 0.7794 - lr: 1.0000e-04\n",
            "Epoch 2/100\n",
            "2368/2368 [==============================] - ETA: 0s - loss: 0.5778 - accuracy: 0.8391INFO:tensorflow:Assets written to: fine_tune_checkpoints/assets\n"
          ]
        },
        {
          "output_type": "stream",
          "name": "stderr",
          "text": [
            "INFO:tensorflow:Assets written to: fine_tune_checkpoints/assets\n"
          ]
        },
        {
          "output_type": "stream",
          "name": "stdout",
          "text": [
            "\b\b\b\b\b\b\b\b\b\b\b\b\b\b\b\b\b\b\b\b\b\b\b\b\b\b\b\b\b\b\b\b\b\b\b\b\b\b\b\b\b\b\b\b\b\b\b\b\b\b\b\b\b\b\b\b\b\b\b\b\b\b\b\b\b\b\b\b\b\b\b\b\b\b\b\b\b\b\b\b\b\b\b\b\b\b\r2368/2368 [==============================] - 378s 159ms/step - loss: 0.5778 - accuracy: 0.8391 - val_loss: 0.7766 - val_accuracy: 0.7881 - lr: 1.0000e-04\n",
            "Epoch 3/100\n",
            "2368/2368 [==============================] - 338s 142ms/step - loss: 0.3301 - accuracy: 0.9056 - val_loss: 0.9011 - val_accuracy: 0.7812 - lr: 1.0000e-04\n",
            "Epoch 4/100\n",
            "2368/2368 [==============================] - ETA: 0s - loss: 0.1738 - accuracy: 0.9489\n",
            "Epoch 4: ReduceLROnPlateau reducing learning rate to 1.9999999494757503e-05.\n",
            "2368/2368 [==============================] - 349s 146ms/step - loss: 0.1738 - accuracy: 0.9489 - val_loss: 0.9356 - val_accuracy: 0.7818 - lr: 1.0000e-04\n",
            "Epoch 5/100\n",
            "2368/2368 [==============================] - 339s 143ms/step - loss: 0.0353 - accuracy: 0.9919 - val_loss: 1.0319 - val_accuracy: 0.8061 - lr: 2.0000e-05\n"
          ]
        }
      ]
    },
    {
      "cell_type": "code",
      "source": [
        "# Save the model\n",
        "loaded_gs_model_path = \"07_efficientnetb0_fine_tuned_101_classes_mixed_precision/\"\n",
        "loaded_gs_model.save(loaded_gs_model_path)"
      ],
      "metadata": {
        "colab": {
          "base_uri": "https://localhost:8080/"
        },
        "id": "jllZFBRf4OWD",
        "outputId": "93ac9841-e78a-4f45-bbdc-c1676b55c90e"
      },
      "execution_count": 61,
      "outputs": [
        {
          "output_type": "stream",
          "name": "stdout",
          "text": [
            "INFO:tensorflow:Assets written to: 07_efficientnetb0_fine_tuned_101_classes_mixed_precision/assets\n"
          ]
        },
        {
          "output_type": "stream",
          "name": "stderr",
          "text": [
            "INFO:tensorflow:Assets written to: 07_efficientnetb0_fine_tuned_101_classes_mixed_precision/assets\n"
          ]
        }
      ]
    },
    {
      "cell_type": "code",
      "source": [
        "# Evaluate mixed precision trained loaded model\n",
        "results_loaded_gs_model_fine_tuned = loaded_gs_model.evaluate(test_data) \n",
        "results_loaded_gs_model_fine_tuned"
      ],
      "metadata": {
        "colab": {
          "base_uri": "https://localhost:8080/"
        },
        "id": "ApwaV-Rn4fAh",
        "outputId": "c2fb2e4a-3ba2-436b-d81c-ee242b074d7b"
      },
      "execution_count": 63,
      "outputs": [
        {
          "output_type": "stream",
          "name": "stdout",
          "text": [
            "790/790 [==============================] - 50s 63ms/step - loss: 1.0540 - accuracy: 0.7997\n"
          ]
        },
        {
          "output_type": "execute_result",
          "data": {
            "text/plain": [
              "[1.054028034210205, 0.7997227907180786]"
            ]
          },
          "metadata": {},
          "execution_count": 63
        }
      ]
    },
    {
      "cell_type": "code",
      "source": [
        "plot_loss_curves(history_101_food_classes_all_data_fine_tune)"
      ],
      "metadata": {
        "colab": {
          "base_uri": "https://localhost:8080/",
          "height": 573
        },
        "id": "kOyrX5m-43CL",
        "outputId": "1fc3d013-8757-4b93-dd28-2a0c79ad79f7"
      },
      "execution_count": 62,
      "outputs": [
        {
          "output_type": "display_data",
          "data": {
            "text/plain": [
              "<Figure size 432x288 with 1 Axes>"
            ],
            "image/png": "[encoded data removed]"
          },
          "metadata": {
            "needs_background": "light"
          }
        },
        {
          "output_type": "display_data",
          "data": {
            "text/plain": [
              "<Figure size 432x288 with 1 Axes>"
            ],
            "image/png": "[encoded data removed]"
          },
          "metadata": {
            "needs_background": "light"
          }
        }
      ]
    },
    {
      "cell_type": "code",
      "source": [
        "# Download and evaluate fine-tuned model from Google Storage\n",
        "!wget https://storage.googleapis.com/ztm_tf_course/food_vision/07_efficientnetb0_fine_tuned_101_classes_mixed_precision.zip"
      ],
      "metadata": {
        "colab": {
          "base_uri": "https://localhost:8080/"
        },
        "id": "jqcST7ZI5Mdf",
        "outputId": "ccf1f0e6-7d8b-4ec2-bcdc-8c8d2f2c2ef2"
      },
      "execution_count": 64,
      "outputs": [
        {
          "output_type": "stream",
          "name": "stdout",
          "text": [
            "--2022-06-05 13:12:21--  https://storage.googleapis.com/ztm_tf_course/food_vision/07_efficientnetb0_fine_tuned_101_classes_mixed_precision.zip\n",
            "Resolving storage.googleapis.com (storage.googleapis.com)... 74.125.68.128, 74.125.24.128, 142.251.10.128, ...\n",
            "Connecting to storage.googleapis.com (storage.googleapis.com)|74.125.68.128|:443... connected.\n",
            "HTTP request sent, awaiting response... 200 OK\n",
            "Length: 46790356 (45M) [application/zip]\n",
            "Saving to: ‘07_efficientnetb0_fine_tuned_101_classes_mixed_precision.zip’\n",
            "\n",
            "07_efficientnetb0_f 100%[===================>]  44.62M  28.8MB/s    in 1.5s    \n",
            "\n",
            "2022-06-05 13:12:23 (28.8 MB/s) - ‘07_efficientnetb0_fine_tuned_101_classes_mixed_precision.zip’ saved [46790356/46790356]\n",
            "\n"
          ]
        }
      ]
    },
    {
      "cell_type": "code",
      "source": [
        "# Unzip fine-tuned model\n",
        "!mkdir downloaded_fine_tuned_gs_model # create separate directory for fine-tuned model downloaded from Google Storage\n",
        "!unzip /content/07_efficientnetb0_fine_tuned_101_classes_mixed_precision -d downloaded_fine_tuned_gs_model"
      ],
      "metadata": {
        "colab": {
          "base_uri": "https://localhost:8080/"
        },
        "id": "VUEmNpfo9KUz",
        "outputId": "264201a0-d719-4b72-857f-5cab9ef3ecc3"
      },
      "execution_count": 65,
      "outputs": [
        {
          "output_type": "stream",
          "name": "stdout",
          "text": [
            "Archive:  /content/07_efficientnetb0_fine_tuned_101_classes_mixed_precision.zip\n",
            "   creating: downloaded_fine_tuned_gs_model/07_efficientnetb0_fine_tuned_101_classes_mixed_precision/\n",
            "   creating: downloaded_fine_tuned_gs_model/07_efficientnetb0_fine_tuned_101_classes_mixed_precision/variables/\n",
            "  inflating: downloaded_fine_tuned_gs_model/07_efficientnetb0_fine_tuned_101_classes_mixed_precision/variables/variables.data-00000-of-00001  \n",
            "  inflating: downloaded_fine_tuned_gs_model/07_efficientnetb0_fine_tuned_101_classes_mixed_precision/variables/variables.index  \n",
            "  inflating: downloaded_fine_tuned_gs_model/07_efficientnetb0_fine_tuned_101_classes_mixed_precision/saved_model.pb  \n",
            "   creating: downloaded_fine_tuned_gs_model/07_efficientnetb0_fine_tuned_101_classes_mixed_precision/assets/\n"
          ]
        }
      ]
    },
    {
      "cell_type": "code",
      "source": [
        "# Load in fine-tuned model from Google Storage and evaluate\n",
        "loaded_fine_tuned_gs_model = tf.keras.models.load_model(\"/content/downloaded_fine_tuned_gs_model/07_efficientnetb0_fine_tuned_101_classes_mixed_precision\")"
      ],
      "metadata": {
        "id": "DYA9OawN9MjK"
      },
      "execution_count": null,
      "outputs": []
    },
    {
      "cell_type": "code",
      "source": [
        "# Get a model summary (same model architecture as above)\n",
        "loaded_fine_tuned_gs_model.summary()"
      ],
      "metadata": {
        "colab": {
          "base_uri": "https://localhost:8080/"
        },
        "id": "Sz2m2b4Q9USh",
        "outputId": "f04e2afb-619c-4444-ea56-ae9cd9585308"
      },
      "execution_count": 67,
      "outputs": [
        {
          "output_type": "stream",
          "name": "stdout",
          "text": [
            "Model: \"model\"\n",
            "_________________________________________________________________\n",
            " Layer (type)                Output Shape              Param #   \n",
            "=================================================================\n",
            " input_layer (InputLayer)    [(None, 224, 224, 3)]     0         \n",
            "                                                                 \n",
            " efficientnetb0 (Functional)  (None, None, None, 1280)  4049571  \n",
            "                                                                 \n",
            " pooling_layer (GlobalAverag  (None, 1280)             0         \n",
            " ePooling2D)                                                     \n",
            "                                                                 \n",
            " dense (Dense)               (None, 101)               129381    \n",
            "                                                                 \n",
            " softmax_float32 (Activation  (None, 101)              0         \n",
            " )                                                               \n",
            "                                                                 \n",
            "=================================================================\n",
            "Total params: 4,178,952\n",
            "Trainable params: 4,136,929\n",
            "Non-trainable params: 42,023\n",
            "_________________________________________________________________\n"
          ]
        }
      ]
    },
    {
      "cell_type": "code",
      "source": [
        "results_downloaded_fine_tuned_gs_model = loaded_fine_tuned_gs_model.evaluate(test_data)\n",
        "results_downloaded_fine_tuned_gs_model"
      ],
      "metadata": {
        "colab": {
          "base_uri": "https://localhost:8080/"
        },
        "id": "k3pKZN_99X64",
        "outputId": "19683f1d-2a06-45f5-801c-c14e626b024e"
      },
      "execution_count": 68,
      "outputs": [
        {
          "output_type": "stream",
          "name": "stdout",
          "text": [
            "790/790 [==============================] - 53s 65ms/step - loss: 0.9073 - accuracy: 0.8017\n"
          ]
        },
        {
          "output_type": "execute_result",
          "data": {
            "text/plain": [
              "[0.907255232334137, 0.8017029762268066]"
            ]
          },
          "metadata": {},
          "execution_count": 68
        }
      ]
    },
    {
      "cell_type": "markdown",
      "source": [
        "Excellent! Our saved model is performing as expected (better results than the DeepFood paper!).\n",
        "\n",
        "Congrautlations! You should be excited! You just trained a computer vision model with competitive performance to a research paper and in far less time (our model took ~20 minutes to train versus DeepFood's quoted 2-3 days).\n",
        "\n",
        "In other words, you brought Food Vision to life!"
      ],
      "metadata": {
        "id": "oQ0RcNq89bSA"
      }
    }
  ]
}